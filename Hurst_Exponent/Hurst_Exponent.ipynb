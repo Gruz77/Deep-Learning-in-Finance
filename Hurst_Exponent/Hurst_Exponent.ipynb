{
  "nbformat": 4,
  "nbformat_minor": 0,
  "metadata": {
    "colab": {
      "name": "TP2_Hurst.ipynb",
      "provenance": [],
      "collapsed_sections": []
    },
    "kernelspec": {
      "name": "python3",
      "display_name": "Python 3"
    },
    "widgets": {
      "application/vnd.jupyter.widget-state+json": {
        "ebfc63837ac146288fe5141f356e46d7": {
          "model_module": "@jupyter-widgets/controls",
          "model_name": "HBoxModel",
          "state": {
            "_view_name": "HBoxView",
            "_dom_classes": [],
            "_model_name": "HBoxModel",
            "_view_module": "@jupyter-widgets/controls",
            "_model_module_version": "1.5.0",
            "_view_count": null,
            "_view_module_version": "1.5.0",
            "box_style": "",
            "layout": "IPY_MODEL_3f7a295fc83f4222b9b2fbc7a816efc1",
            "_model_module": "@jupyter-widgets/controls",
            "children": [
              "IPY_MODEL_6b6e36a77eca4aa3be485ba40a52951d",
              "IPY_MODEL_18a14f57c4964ebb957283bf127c5e51"
            ]
          }
        },
        "3f7a295fc83f4222b9b2fbc7a816efc1": {
          "model_module": "@jupyter-widgets/base",
          "model_name": "LayoutModel",
          "state": {
            "_view_name": "LayoutView",
            "grid_template_rows": null,
            "right": null,
            "justify_content": null,
            "_view_module": "@jupyter-widgets/base",
            "overflow": null,
            "_model_module_version": "1.2.0",
            "_view_count": null,
            "flex_flow": null,
            "width": null,
            "min_width": null,
            "border": null,
            "align_items": null,
            "bottom": null,
            "_model_module": "@jupyter-widgets/base",
            "top": null,
            "grid_column": null,
            "overflow_y": null,
            "overflow_x": null,
            "grid_auto_flow": null,
            "grid_area": null,
            "grid_template_columns": null,
            "flex": null,
            "_model_name": "LayoutModel",
            "justify_items": null,
            "grid_row": null,
            "max_height": null,
            "align_content": null,
            "visibility": null,
            "align_self": null,
            "height": null,
            "min_height": null,
            "padding": null,
            "grid_auto_rows": null,
            "grid_gap": null,
            "max_width": null,
            "order": null,
            "_view_module_version": "1.2.0",
            "grid_template_areas": null,
            "object_position": null,
            "object_fit": null,
            "grid_auto_columns": null,
            "margin": null,
            "display": null,
            "left": null
          }
        },
        "6b6e36a77eca4aa3be485ba40a52951d": {
          "model_module": "@jupyter-widgets/controls",
          "model_name": "FloatProgressModel",
          "state": {
            "_view_name": "ProgressView",
            "style": "IPY_MODEL_83774cc6a2fe4b4cad158bf692878ae6",
            "_dom_classes": [],
            "description": "X_train: 100%",
            "_model_name": "FloatProgressModel",
            "bar_style": "success",
            "max": 10,
            "_view_module": "@jupyter-widgets/controls",
            "_model_module_version": "1.5.0",
            "value": 10,
            "_view_count": null,
            "_view_module_version": "1.5.0",
            "orientation": "horizontal",
            "min": 0,
            "description_tooltip": null,
            "_model_module": "@jupyter-widgets/controls",
            "layout": "IPY_MODEL_210886ce0c5f41d4a6955519221fc56e"
          }
        },
        "18a14f57c4964ebb957283bf127c5e51": {
          "model_module": "@jupyter-widgets/controls",
          "model_name": "HTMLModel",
          "state": {
            "_view_name": "HTMLView",
            "style": "IPY_MODEL_786c784710ad4222b198cb0f8c00de6b",
            "_dom_classes": [],
            "description": "",
            "_model_name": "HTMLModel",
            "placeholder": "​",
            "_view_module": "@jupyter-widgets/controls",
            "_model_module_version": "1.5.0",
            "value": " 10/10 [33:35&lt;00:00, 201.58s/it]",
            "_view_count": null,
            "_view_module_version": "1.5.0",
            "description_tooltip": null,
            "_model_module": "@jupyter-widgets/controls",
            "layout": "IPY_MODEL_85c3ab617dc84cc4a9c32c48233c6b94"
          }
        },
        "83774cc6a2fe4b4cad158bf692878ae6": {
          "model_module": "@jupyter-widgets/controls",
          "model_name": "ProgressStyleModel",
          "state": {
            "_view_name": "StyleView",
            "_model_name": "ProgressStyleModel",
            "description_width": "initial",
            "_view_module": "@jupyter-widgets/base",
            "_model_module_version": "1.5.0",
            "_view_count": null,
            "_view_module_version": "1.2.0",
            "bar_color": null,
            "_model_module": "@jupyter-widgets/controls"
          }
        },
        "210886ce0c5f41d4a6955519221fc56e": {
          "model_module": "@jupyter-widgets/base",
          "model_name": "LayoutModel",
          "state": {
            "_view_name": "LayoutView",
            "grid_template_rows": null,
            "right": null,
            "justify_content": null,
            "_view_module": "@jupyter-widgets/base",
            "overflow": null,
            "_model_module_version": "1.2.0",
            "_view_count": null,
            "flex_flow": null,
            "width": null,
            "min_width": null,
            "border": null,
            "align_items": null,
            "bottom": null,
            "_model_module": "@jupyter-widgets/base",
            "top": null,
            "grid_column": null,
            "overflow_y": null,
            "overflow_x": null,
            "grid_auto_flow": null,
            "grid_area": null,
            "grid_template_columns": null,
            "flex": null,
            "_model_name": "LayoutModel",
            "justify_items": null,
            "grid_row": null,
            "max_height": null,
            "align_content": null,
            "visibility": null,
            "align_self": null,
            "height": null,
            "min_height": null,
            "padding": null,
            "grid_auto_rows": null,
            "grid_gap": null,
            "max_width": null,
            "order": null,
            "_view_module_version": "1.2.0",
            "grid_template_areas": null,
            "object_position": null,
            "object_fit": null,
            "grid_auto_columns": null,
            "margin": null,
            "display": null,
            "left": null
          }
        },
        "786c784710ad4222b198cb0f8c00de6b": {
          "model_module": "@jupyter-widgets/controls",
          "model_name": "DescriptionStyleModel",
          "state": {
            "_view_name": "StyleView",
            "_model_name": "DescriptionStyleModel",
            "description_width": "",
            "_view_module": "@jupyter-widgets/base",
            "_model_module_version": "1.5.0",
            "_view_count": null,
            "_view_module_version": "1.2.0",
            "_model_module": "@jupyter-widgets/controls"
          }
        },
        "85c3ab617dc84cc4a9c32c48233c6b94": {
          "model_module": "@jupyter-widgets/base",
          "model_name": "LayoutModel",
          "state": {
            "_view_name": "LayoutView",
            "grid_template_rows": null,
            "right": null,
            "justify_content": null,
            "_view_module": "@jupyter-widgets/base",
            "overflow": null,
            "_model_module_version": "1.2.0",
            "_view_count": null,
            "flex_flow": null,
            "width": null,
            "min_width": null,
            "border": null,
            "align_items": null,
            "bottom": null,
            "_model_module": "@jupyter-widgets/base",
            "top": null,
            "grid_column": null,
            "overflow_y": null,
            "overflow_x": null,
            "grid_auto_flow": null,
            "grid_area": null,
            "grid_template_columns": null,
            "flex": null,
            "_model_name": "LayoutModel",
            "justify_items": null,
            "grid_row": null,
            "max_height": null,
            "align_content": null,
            "visibility": null,
            "align_self": null,
            "height": null,
            "min_height": null,
            "padding": null,
            "grid_auto_rows": null,
            "grid_gap": null,
            "max_width": null,
            "order": null,
            "_view_module_version": "1.2.0",
            "grid_template_areas": null,
            "object_position": null,
            "object_fit": null,
            "grid_auto_columns": null,
            "margin": null,
            "display": null,
            "left": null
          }
        },
        "7eb8cf923ff14916b531d9fcddb7a35c": {
          "model_module": "@jupyter-widgets/controls",
          "model_name": "HBoxModel",
          "state": {
            "_view_name": "HBoxView",
            "_dom_classes": [],
            "_model_name": "HBoxModel",
            "_view_module": "@jupyter-widgets/controls",
            "_model_module_version": "1.5.0",
            "_view_count": null,
            "_view_module_version": "1.5.0",
            "box_style": "",
            "layout": "IPY_MODEL_ce5af50bc8be42c0902ed3fec042a7fc",
            "_model_module": "@jupyter-widgets/controls",
            "children": [
              "IPY_MODEL_9f50fcc8c5c14ed3aa3eaae546f1b31b",
              "IPY_MODEL_664694d8d44e45e5b47125de902d7ec4"
            ]
          }
        },
        "ce5af50bc8be42c0902ed3fec042a7fc": {
          "model_module": "@jupyter-widgets/base",
          "model_name": "LayoutModel",
          "state": {
            "_view_name": "LayoutView",
            "grid_template_rows": null,
            "right": null,
            "justify_content": null,
            "_view_module": "@jupyter-widgets/base",
            "overflow": null,
            "_model_module_version": "1.2.0",
            "_view_count": null,
            "flex_flow": null,
            "width": null,
            "min_width": null,
            "border": null,
            "align_items": null,
            "bottom": null,
            "_model_module": "@jupyter-widgets/base",
            "top": null,
            "grid_column": null,
            "overflow_y": null,
            "overflow_x": null,
            "grid_auto_flow": null,
            "grid_area": null,
            "grid_template_columns": null,
            "flex": null,
            "_model_name": "LayoutModel",
            "justify_items": null,
            "grid_row": null,
            "max_height": null,
            "align_content": null,
            "visibility": null,
            "align_self": null,
            "height": null,
            "min_height": null,
            "padding": null,
            "grid_auto_rows": null,
            "grid_gap": null,
            "max_width": null,
            "order": null,
            "_view_module_version": "1.2.0",
            "grid_template_areas": null,
            "object_position": null,
            "object_fit": null,
            "grid_auto_columns": null,
            "margin": null,
            "display": null,
            "left": null
          }
        },
        "9f50fcc8c5c14ed3aa3eaae546f1b31b": {
          "model_module": "@jupyter-widgets/controls",
          "model_name": "FloatProgressModel",
          "state": {
            "_view_name": "ProgressView",
            "style": "IPY_MODEL_fcc8691bc541459b8cbd0caa18b3b356",
            "_dom_classes": [],
            "description": "X_test: 100%",
            "_model_name": "FloatProgressModel",
            "bar_style": "success",
            "max": 100,
            "_view_module": "@jupyter-widgets/controls",
            "_model_module_version": "1.5.0",
            "value": 100,
            "_view_count": null,
            "_view_module_version": "1.5.0",
            "orientation": "horizontal",
            "min": 0,
            "description_tooltip": null,
            "_model_module": "@jupyter-widgets/controls",
            "layout": "IPY_MODEL_bad493e316cf4a3ca9d9b4afb92b3794"
          }
        },
        "664694d8d44e45e5b47125de902d7ec4": {
          "model_module": "@jupyter-widgets/controls",
          "model_name": "HTMLModel",
          "state": {
            "_view_name": "HTMLView",
            "style": "IPY_MODEL_77ed04f5ed2848c49a396245f03be371",
            "_dom_classes": [],
            "description": "",
            "_model_name": "HTMLModel",
            "placeholder": "​",
            "_view_module": "@jupyter-widgets/controls",
            "_model_module_version": "1.5.0",
            "value": " 100/100 [05:27&lt;00:00,  3.28s/it]",
            "_view_count": null,
            "_view_module_version": "1.5.0",
            "description_tooltip": null,
            "_model_module": "@jupyter-widgets/controls",
            "layout": "IPY_MODEL_fa9e0febe41f421ba9b1075011ccbd10"
          }
        },
        "fcc8691bc541459b8cbd0caa18b3b356": {
          "model_module": "@jupyter-widgets/controls",
          "model_name": "ProgressStyleModel",
          "state": {
            "_view_name": "StyleView",
            "_model_name": "ProgressStyleModel",
            "description_width": "initial",
            "_view_module": "@jupyter-widgets/base",
            "_model_module_version": "1.5.0",
            "_view_count": null,
            "_view_module_version": "1.2.0",
            "bar_color": null,
            "_model_module": "@jupyter-widgets/controls"
          }
        },
        "bad493e316cf4a3ca9d9b4afb92b3794": {
          "model_module": "@jupyter-widgets/base",
          "model_name": "LayoutModel",
          "state": {
            "_view_name": "LayoutView",
            "grid_template_rows": null,
            "right": null,
            "justify_content": null,
            "_view_module": "@jupyter-widgets/base",
            "overflow": null,
            "_model_module_version": "1.2.0",
            "_view_count": null,
            "flex_flow": null,
            "width": null,
            "min_width": null,
            "border": null,
            "align_items": null,
            "bottom": null,
            "_model_module": "@jupyter-widgets/base",
            "top": null,
            "grid_column": null,
            "overflow_y": null,
            "overflow_x": null,
            "grid_auto_flow": null,
            "grid_area": null,
            "grid_template_columns": null,
            "flex": null,
            "_model_name": "LayoutModel",
            "justify_items": null,
            "grid_row": null,
            "max_height": null,
            "align_content": null,
            "visibility": null,
            "align_self": null,
            "height": null,
            "min_height": null,
            "padding": null,
            "grid_auto_rows": null,
            "grid_gap": null,
            "max_width": null,
            "order": null,
            "_view_module_version": "1.2.0",
            "grid_template_areas": null,
            "object_position": null,
            "object_fit": null,
            "grid_auto_columns": null,
            "margin": null,
            "display": null,
            "left": null
          }
        },
        "77ed04f5ed2848c49a396245f03be371": {
          "model_module": "@jupyter-widgets/controls",
          "model_name": "DescriptionStyleModel",
          "state": {
            "_view_name": "StyleView",
            "_model_name": "DescriptionStyleModel",
            "description_width": "",
            "_view_module": "@jupyter-widgets/base",
            "_model_module_version": "1.5.0",
            "_view_count": null,
            "_view_module_version": "1.2.0",
            "_model_module": "@jupyter-widgets/controls"
          }
        },
        "fa9e0febe41f421ba9b1075011ccbd10": {
          "model_module": "@jupyter-widgets/base",
          "model_name": "LayoutModel",
          "state": {
            "_view_name": "LayoutView",
            "grid_template_rows": null,
            "right": null,
            "justify_content": null,
            "_view_module": "@jupyter-widgets/base",
            "overflow": null,
            "_model_module_version": "1.2.0",
            "_view_count": null,
            "flex_flow": null,
            "width": null,
            "min_width": null,
            "border": null,
            "align_items": null,
            "bottom": null,
            "_model_module": "@jupyter-widgets/base",
            "top": null,
            "grid_column": null,
            "overflow_y": null,
            "overflow_x": null,
            "grid_auto_flow": null,
            "grid_area": null,
            "grid_template_columns": null,
            "flex": null,
            "_model_name": "LayoutModel",
            "justify_items": null,
            "grid_row": null,
            "max_height": null,
            "align_content": null,
            "visibility": null,
            "align_self": null,
            "height": null,
            "min_height": null,
            "padding": null,
            "grid_auto_rows": null,
            "grid_gap": null,
            "max_width": null,
            "order": null,
            "_view_module_version": "1.2.0",
            "grid_template_areas": null,
            "object_position": null,
            "object_fit": null,
            "grid_auto_columns": null,
            "margin": null,
            "display": null,
            "left": null
          }
        }
      }
    }
  },
  "cells": [
    {
      "cell_type": "markdown",
      "metadata": {
        "id": "G1XuArz-5Orq"
      },
      "source": [
        "# <center> Exposant de Hurst <center/>\n",
        "---\n",
        "---\n",
        "> Le but ici est d'utiliser des réseaux de neurones pour l'estimation de l'exposant de Hurst. De comparer les réseaux ANN et CNN, et de se demander quelle architecture peut être la meilleure."
      ]
    },
    {
      "cell_type": "code",
      "metadata": {
        "id": "CNcq6I7M3o9M"
      },
      "source": [
        "!pip install fbm\n",
        "# !pip install ann_visualizer # Pour visualiser les ANN (mais en pdf..)\n",
        "from keras.models import Sequential\n",
        "from keras.layers import Dense\n",
        "from keras.layers import Dropout\n",
        "import numpy as np\n",
        "import seaborn as sns\n",
        "import matplotlib.pyplot as plt\n",
        "from fbm import fbm\n",
        "from tqdm.notebook import tqdm\n",
        "from keras.layers import LeakyReLU\n",
        "# from ann_visualizer.visualize import ann_viz\n",
        "plt.style.use(\"ggplot\")"
      ],
      "execution_count": null,
      "outputs": []
    },
    {
      "cell_type": "code",
      "metadata": {
        "colab": {
          "base_uri": "https://localhost:8080/"
        },
        "id": "m0lbXZ45KRdL",
        "outputId": "320c34f1-34a5-4ced-bc64-0a4b3528e00e"
      },
      "source": [
        "# Import de nos drive pour les fichiers\n",
        "from google.colab import drive\n",
        "drive.mount('/content/drive')"
      ],
      "execution_count": null,
      "outputs": [
        {
          "output_type": "stream",
          "text": [
            "Drive already mounted at /content/drive; to attempt to forcibly remount, call drive.mount(\"/content/drive\", force_remount=True).\n"
          ],
          "name": "stdout"
        }
      ]
    },
    {
      "cell_type": "markdown",
      "metadata": {
        "id": "YEiAZLeFy3ng"
      },
      "source": [
        "---\n",
        "# 1 - Réseaux denses (ANN)\n",
        "\n",
        "Un ANN est un réseau de neurone artificiel, dense si il contient plus d'une couche cachée (DNN)."
      ]
    },
    {
      "cell_type": "markdown",
      "metadata": {
        "id": "7oOPcpvi2ltV"
      },
      "source": [
        "## 1) $X_{train}$\n",
        "\n",
        "- On génère $10000$ série temporelles de longueur $T=100$ pour $10$ valeurs de $H \\in [0,1]$.\n",
        "  - On fait le choix de générer avec des $H_{min}$ et $H_{max}$ très proches de $0$ et de $1$ afin que notre modèle soit entrainé aux valeurs \"extrêmes\". En effet le test set sera composé de valeurs de $H \\in [0.01, 0.99]$."
      ]
    },
    {
      "cell_type": "code",
      "metadata": {
        "id": "6Iufgyjo4Jft",
        "colab": {
          "base_uri": "https://localhost:8080/",
          "height": 120,
          "referenced_widgets": [
            "ebfc63837ac146288fe5141f356e46d7",
            "3f7a295fc83f4222b9b2fbc7a816efc1",
            "6b6e36a77eca4aa3be485ba40a52951d",
            "18a14f57c4964ebb957283bf127c5e51",
            "83774cc6a2fe4b4cad158bf692878ae6",
            "210886ce0c5f41d4a6955519221fc56e",
            "786c784710ad4222b198cb0f8c00de6b",
            "85c3ab617dc84cc4a9c32c48233c6b94"
          ]
        },
        "outputId": "3a63ba3f-c337-4b3a-bb9e-c75d92eb61da"
      },
      "source": [
        "# On créé notre matrice X_train\n",
        "T = 100\n",
        "M = 10000\n",
        "X_train = np.zeros((M*10,T))\n",
        "Hs = np.linspace(0.01,0.99,10)\n",
        "for i in tqdm(range(10), desc=\"X_train\"):\n",
        "  for k in range(M):\n",
        "    X_train[(i*M)+k,:] = fbm(T-1, Hs[i], length=1) # (10 000, 100)"
      ],
      "execution_count": null,
      "outputs": [
        {
          "output_type": "display_data",
          "data": {
            "application/vnd.jupyter.widget-view+json": {
              "model_id": "ebfc63837ac146288fe5141f356e46d7",
              "version_minor": 0,
              "version_major": 2
            },
            "text/plain": [
              "HBox(children=(FloatProgress(value=0.0, description='X_train', max=10.0, style=ProgressStyle(description_width…"
            ]
          },
          "metadata": {
            "tags": []
          }
        },
        {
          "output_type": "stream",
          "text": [
            "/usr/local/lib/python3.6/dist-packages/fbm/fbm.py:172: UserWarning: Combination of increments n and Hurst value H invalid for Davies-Harte method. Reverting to Hosking method. Occurs when n is small and Hurst is close to 1. \n",
            "  \"Combination of increments n and Hurst value H \"\n"
          ],
          "name": "stderr"
        },
        {
          "output_type": "stream",
          "text": [
            "\n"
          ],
          "name": "stdout"
        }
      ]
    },
    {
      "cell_type": "markdown",
      "metadata": {
        "id": "5nLkOvIcjbz-"
      },
      "source": [
        "## $Y_{train}$\n"
      ]
    },
    {
      "cell_type": "code",
      "metadata": {
        "id": "o6Ekw5DXK_i1"
      },
      "source": [
        "# On créé notre Y_train\n",
        "Y_train = np.zeros([])\n",
        "for k in range(len(Hs)):\n",
        "  Y_train = np.vstack((Y_train, np.array([Hs[k]]*M).reshape((M,1))))\n",
        "Y_train = Y_train[1:] # (10 000, 1)"
      ],
      "execution_count": null,
      "outputs": []
    },
    {
      "cell_type": "markdown",
      "metadata": {
        "id": "VhiymEV14H5A"
      },
      "source": [
        "## 2) $X_{test}$\n",
        "\n",
        "- On génère $1000$ séries temporelles de longueur $T=100$ pour $100$ valeurs de $H \\in [0.01,0.99]$. "
      ]
    },
    {
      "cell_type": "code",
      "metadata": {
        "colab": {
          "base_uri": "https://localhost:8080/",
          "height": 120,
          "referenced_widgets": [
            "7eb8cf923ff14916b531d9fcddb7a35c",
            "ce5af50bc8be42c0902ed3fec042a7fc",
            "9f50fcc8c5c14ed3aa3eaae546f1b31b",
            "664694d8d44e45e5b47125de902d7ec4",
            "fcc8691bc541459b8cbd0caa18b3b356",
            "bad493e316cf4a3ca9d9b4afb92b3794",
            "77ed04f5ed2848c49a396245f03be371",
            "fa9e0febe41f421ba9b1075011ccbd10"
          ]
        },
        "id": "8BwOcZbA8-kH",
        "outputId": "15f2a29e-456c-44ce-867e-49dc09b3be38"
      },
      "source": [
        "# On créé notre matrice Xtest\n",
        "T = 100\n",
        "M = 1000\n",
        "X_test = np.zeros((M*100,T))\n",
        "Hs = np.linspace(0.01,0.99,100)\n",
        "for i in tqdm(range(100), desc=\"X_test\"):\n",
        "  for k in range(M):\n",
        "    X_test[(i*M)+k,:] = fbm(T-1, Hs[i])"
      ],
      "execution_count": null,
      "outputs": [
        {
          "output_type": "display_data",
          "data": {
            "application/vnd.jupyter.widget-view+json": {
              "model_id": "7eb8cf923ff14916b531d9fcddb7a35c",
              "version_minor": 0,
              "version_major": 2
            },
            "text/plain": [
              "HBox(children=(FloatProgress(value=0.0, description='X_test', style=ProgressStyle(description_width='initial')…"
            ]
          },
          "metadata": {
            "tags": []
          }
        },
        {
          "output_type": "stream",
          "text": [
            "/usr/local/lib/python3.6/dist-packages/fbm/fbm.py:172: UserWarning: Combination of increments n and Hurst value H invalid for Davies-Harte method. Reverting to Hosking method. Occurs when n is small and Hurst is close to 1. \n",
            "  \"Combination of increments n and Hurst value H \"\n"
          ],
          "name": "stderr"
        },
        {
          "output_type": "stream",
          "text": [
            "\n"
          ],
          "name": "stdout"
        }
      ]
    },
    {
      "cell_type": "markdown",
      "metadata": {
        "id": "Qy0-RnZ-3V5x"
      },
      "source": [
        "## 3) Architecture de l'ANN"
      ]
    },
    {
      "cell_type": "markdown",
      "metadata": {
        "id": "IW84jgzKhyvV"
      },
      "source": [
        "- On peut utiliser le EarlyStopping de manière à stopper l'entrainement à un instant désiré à l'avance. Arguments : \n",
        "  - monitor : valeur d'intérêt. \"val_loss\" pour nous\n",
        "  - mode : min pour stopper l'entrainement quand la valeur monitorée arrête de decroître.\n",
        "  - patience : Nombre d'epochs sans amélioration avant que l'entrainement soit stoppé.\n",
        "\n",
        "- Pour réduire l'Overfitting, des couches Dropout peuvent également être ajoutées :\n",
        "  - A chaque itération d'entrainement, un taux de neurones va être choisi de manière aléatoire (arugment rate) et ceux-ci seront désactivés, cela va diminuer les liens parfois trop fort que des neurones créent entre eux lors de l'apprentissage.\n",
        "\n",
        "- On décide d'utiliser la fonction d'activation sigmoïde pour la couche de sortie (1 neurone) car l'exposant de Hurst $\\in [0,1]$."
      ]
    },
    {
      "cell_type": "code",
      "metadata": {
        "id": "hnCcpcd04naS"
      },
      "source": [
        "from keras.callbacks import EarlyStopping\n",
        "es = EarlyStopping(monitor=\"val_loss\", mode=\"min\", patience=10) "
      ],
      "execution_count": null,
      "outputs": []
    },
    {
      "cell_type": "code",
      "metadata": {
        "colab": {
          "base_uri": "https://localhost:8080/"
        },
        "id": "cyd6C4Mgdnp2",
        "outputId": "3d5788c9-b549-490f-e617-008a8caa2809"
      },
      "source": [
        "ANN = Sequential()\n",
        "\n",
        "ANN.add(Dense(150, input_dim=T, activation=\"relu\"))\n",
        "ANN.add(LeakyReLU(alpha=0.3))\n",
        "ANN.add(Dense(150, activation=\"relu\"))\n",
        "# ANN.add(Dropout(rate=0.1))\n",
        "ANN.add(LeakyReLU(alpha=0.3))\n",
        "\n",
        "ANN.add(Dense(150, activation=\"relu\"))\n",
        "ANN.add(LeakyReLU(alpha=0.3))\n",
        "# ANN.add(Dropout(rate=0.1))\n",
        "ANN.add(Dense(150, activation=\"relu\"))\n",
        "ANN.add(LeakyReLU(alpha=0.3))\n",
        "# ANN.add(Dropout(rate=0.1)\n",
        "ANN.add(Dense(150, activation=\"linear\")) \n",
        "# ANN.add(LeakyReLU(alpha=0.1))\n",
        "ANN.add(Dense(150, activation=\"linear\"))\n",
        "ANN.add(LeakyReLU(alpha=0.3))\n",
        "# ANN.add(Dropout(rate=0.1))\n",
        "ANN.add(Dense(150, activation=\"linear\"))\n",
        "ANN.add(LeakyReLU(alpha=0.3))\n",
        "# ANN.add(Dropout(rate=0.1))\n",
        "\n",
        "ANN.add(Dense(150, activation=\"linear\"))\n",
        "ANN.add(LeakyReLU(alpha=0.3))\n",
        "# ANN.add(Dropout(rate=0.1))\n",
        "# ANN.add(Dense(24, activation=\"tanh\"))\n",
        "ANN.add(Dense(150, activation=\"linear\"))\n",
        "ANN.add(LeakyReLU(alpha=0.3))\n",
        "# ANN.add(Dropout(rate=0.1))\n",
        "ANN.add(Dense(150, activation=\"linear\")) \n",
        "ANN.add(LeakyReLU(alpha=0.3))\n",
        "ANN.add(Dense(150, activation=\"linear\"))\n",
        "ANN.add(LeakyReLU(alpha=0.3))\n",
        "# ANN.add(Dropout(rate=0.1))\n",
        "ANN.add(Dense(150, activation=\"relu\"))\n",
        "ANN.add(LeakyReLU(alpha=0.3))\n",
        "\n",
        "ANN.add(Dense(150, activation=\"relu\"))\n",
        "ANN.add(LeakyReLU(alpha=0.3))\n",
        "# ANN.add(Dropout(rate=0.1))\n",
        "# ANN.add(Dense(24, activation=\"tanh\"))\n",
        "ANN.add(Dense(150, activation=\"relu\"))\n",
        "ANN.add(LeakyReLU(alpha=0.1))\n",
        "# ANN.add(Dropout(rate=0.1))\n",
        "ANN.add(Dense(150, activation=\"relu\")) \n",
        "ANN.add(LeakyReLU(alpha=0.1))\n",
        "ANN.add(Dense(150, activation=\"relu\"))\n",
        "ANN.add(LeakyReLU(alpha=0.1))\n",
        "# ANN.add(Dropout(rate=0.1))\n",
        "ANN.add(Dense(150, activation=\"relu\"))\n",
        "ANN.add(LeakyReLU(alpha=0.1))\n",
        "\n",
        "\n",
        "\n",
        "ANN.add(Dense(1, activation=\"hard_sigmoid\"))\n",
        "\n",
        "ANN.compile(loss=\"MSE\", optimizer=\"adam\", metrics=[\"mean_squared_error\"]) # \"accuracy\" pour la classification\n",
        "\n",
        "ANN.fit(X_train, Y_train, validation_split=0.2, epochs=50, callbacks=[es])\n",
        "# ANN.fit(X_train, Y_train, validation_split=0.2, epochs=50)\n",
        "\n",
        "# Afficher notre ANN\n",
        "# ann_viz(ANN, view=True, title=\"ANN\")"
      ],
      "execution_count": null,
      "outputs": [
        {
          "output_type": "stream",
          "text": [
            "Epoch 1/50\n",
            "2500/2500 [==============================] - 17s 6ms/step - loss: 0.0071 - mean_squared_error: 0.0071 - val_loss: 0.0404 - val_mean_squared_error: 0.0404\n",
            "Epoch 2/50\n",
            "2500/2500 [==============================] - 16s 6ms/step - loss: 0.0022 - mean_squared_error: 0.0022 - val_loss: 0.0361 - val_mean_squared_error: 0.0361\n",
            "Epoch 3/50\n",
            "2500/2500 [==============================] - 16s 6ms/step - loss: 0.0018 - mean_squared_error: 0.0018 - val_loss: 0.0383 - val_mean_squared_error: 0.0383\n",
            "Epoch 4/50\n",
            "2500/2500 [==============================] - 15s 6ms/step - loss: 0.0017 - mean_squared_error: 0.0017 - val_loss: 0.0304 - val_mean_squared_error: 0.0304\n",
            "Epoch 5/50\n",
            "2500/2500 [==============================] - 16s 6ms/step - loss: 0.0015 - mean_squared_error: 0.0015 - val_loss: 0.0301 - val_mean_squared_error: 0.0301\n",
            "Epoch 6/50\n",
            "2500/2500 [==============================] - 16s 6ms/step - loss: 0.0014 - mean_squared_error: 0.0014 - val_loss: 0.0432 - val_mean_squared_error: 0.0432\n",
            "Epoch 7/50\n",
            "2500/2500 [==============================] - 16s 6ms/step - loss: 0.0018 - mean_squared_error: 0.0018 - val_loss: 0.0330 - val_mean_squared_error: 0.0330\n",
            "Epoch 8/50\n",
            "2500/2500 [==============================] - 16s 6ms/step - loss: 0.0013 - mean_squared_error: 0.0013 - val_loss: 0.0307 - val_mean_squared_error: 0.0307\n",
            "Epoch 9/50\n",
            "2500/2500 [==============================] - 16s 6ms/step - loss: 0.0013 - mean_squared_error: 0.0013 - val_loss: 0.0280 - val_mean_squared_error: 0.0280\n",
            "Epoch 10/50\n",
            "2500/2500 [==============================] - 16s 6ms/step - loss: 0.0013 - mean_squared_error: 0.0013 - val_loss: 0.0349 - val_mean_squared_error: 0.0349\n",
            "Epoch 11/50\n",
            "2500/2500 [==============================] - 16s 6ms/step - loss: 0.0012 - mean_squared_error: 0.0012 - val_loss: 0.0379 - val_mean_squared_error: 0.0379\n",
            "Epoch 12/50\n",
            "2500/2500 [==============================] - 16s 6ms/step - loss: 0.0011 - mean_squared_error: 0.0011 - val_loss: 0.0263 - val_mean_squared_error: 0.0263\n",
            "Epoch 13/50\n",
            "2500/2500 [==============================] - 16s 6ms/step - loss: 0.0011 - mean_squared_error: 0.0011 - val_loss: 0.0331 - val_mean_squared_error: 0.0331\n",
            "Epoch 14/50\n",
            "2500/2500 [==============================] - 16s 6ms/step - loss: 9.5217e-04 - mean_squared_error: 9.5217e-04 - val_loss: 0.0338 - val_mean_squared_error: 0.0338\n",
            "Epoch 15/50\n",
            "2500/2500 [==============================] - 16s 6ms/step - loss: 9.8447e-04 - mean_squared_error: 9.8447e-04 - val_loss: 0.0322 - val_mean_squared_error: 0.0322\n",
            "Epoch 16/50\n",
            "2500/2500 [==============================] - 16s 6ms/step - loss: 9.0854e-04 - mean_squared_error: 9.0854e-04 - val_loss: 0.0354 - val_mean_squared_error: 0.0354\n",
            "Epoch 17/50\n",
            "2500/2500 [==============================] - 16s 6ms/step - loss: 9.3567e-04 - mean_squared_error: 9.3567e-04 - val_loss: 0.0278 - val_mean_squared_error: 0.0278\n",
            "Epoch 18/50\n",
            "2500/2500 [==============================] - 16s 6ms/step - loss: 9.4227e-04 - mean_squared_error: 9.4227e-04 - val_loss: 0.0316 - val_mean_squared_error: 0.0316\n",
            "Epoch 19/50\n",
            "2500/2500 [==============================] - 16s 6ms/step - loss: 8.4658e-04 - mean_squared_error: 8.4658e-04 - val_loss: 0.0276 - val_mean_squared_error: 0.0276\n",
            "Epoch 20/50\n",
            "2500/2500 [==============================] - 16s 6ms/step - loss: 7.9072e-04 - mean_squared_error: 7.9072e-04 - val_loss: 0.0298 - val_mean_squared_error: 0.0298\n",
            "Epoch 21/50\n",
            "2500/2500 [==============================] - 16s 6ms/step - loss: 8.1346e-04 - mean_squared_error: 8.1346e-04 - val_loss: 0.0292 - val_mean_squared_error: 0.0292\n",
            "Epoch 22/50\n",
            "2500/2500 [==============================] - 16s 6ms/step - loss: 7.4456e-04 - mean_squared_error: 7.4456e-04 - val_loss: 0.0314 - val_mean_squared_error: 0.0314\n"
          ],
          "name": "stdout"
        },
        {
          "output_type": "execute_result",
          "data": {
            "text/plain": [
              "<tensorflow.python.keras.callbacks.History at 0x7fc42623c2e8>"
            ]
          },
          "metadata": {
            "tags": []
          },
          "execution_count": 17
        }
      ]
    },
    {
      "cell_type": "code",
      "metadata": {
        "id": "QgvkbsePch9B"
      },
      "source": [
        "# On sauvegarde notre modèle\n",
        "ANN.save(\"/content/drive/MyDrive/Colab Notebooks Centrale/Deep Learning in Finance/ANN_Hurst_model/ANN_Hurst.h5\")"
      ],
      "execution_count": null,
      "outputs": []
    },
    {
      "cell_type": "code",
      "metadata": {
        "colab": {
          "base_uri": "https://localhost:8080/"
        },
        "id": "1hmAPlxFa8R8",
        "outputId": "2b7ec375-b8f9-4d54-8575-d1ee10cef0ac"
      },
      "source": [
        "ANN.summary()"
      ],
      "execution_count": null,
      "outputs": [
        {
          "output_type": "stream",
          "text": [
            "Model: \"sequential_1\"\n",
            "_________________________________________________________________\n",
            "Layer (type)                 Output Shape              Param #   \n",
            "=================================================================\n",
            "dense (Dense)                (None, 150)               15150     \n",
            "_________________________________________________________________\n",
            "leaky_re_lu (LeakyReLU)      (None, 150)               0         \n",
            "_________________________________________________________________\n",
            "dense_1 (Dense)              (None, 150)               22650     \n",
            "_________________________________________________________________\n",
            "leaky_re_lu_1 (LeakyReLU)    (None, 150)               0         \n",
            "_________________________________________________________________\n",
            "dense_2 (Dense)              (None, 150)               22650     \n",
            "_________________________________________________________________\n",
            "leaky_re_lu_2 (LeakyReLU)    (None, 150)               0         \n",
            "_________________________________________________________________\n",
            "dense_3 (Dense)              (None, 150)               22650     \n",
            "_________________________________________________________________\n",
            "leaky_re_lu_3 (LeakyReLU)    (None, 150)               0         \n",
            "_________________________________________________________________\n",
            "dense_4 (Dense)              (None, 150)               22650     \n",
            "_________________________________________________________________\n",
            "dense_5 (Dense)              (None, 150)               22650     \n",
            "_________________________________________________________________\n",
            "leaky_re_lu_4 (LeakyReLU)    (None, 150)               0         \n",
            "_________________________________________________________________\n",
            "dense_6 (Dense)              (None, 150)               22650     \n",
            "_________________________________________________________________\n",
            "leaky_re_lu_5 (LeakyReLU)    (None, 150)               0         \n",
            "_________________________________________________________________\n",
            "dense_7 (Dense)              (None, 150)               22650     \n",
            "_________________________________________________________________\n",
            "leaky_re_lu_6 (LeakyReLU)    (None, 150)               0         \n",
            "_________________________________________________________________\n",
            "dense_8 (Dense)              (None, 150)               22650     \n",
            "_________________________________________________________________\n",
            "leaky_re_lu_7 (LeakyReLU)    (None, 150)               0         \n",
            "_________________________________________________________________\n",
            "dense_9 (Dense)              (None, 150)               22650     \n",
            "_________________________________________________________________\n",
            "leaky_re_lu_8 (LeakyReLU)    (None, 150)               0         \n",
            "_________________________________________________________________\n",
            "dense_10 (Dense)             (None, 150)               22650     \n",
            "_________________________________________________________________\n",
            "leaky_re_lu_9 (LeakyReLU)    (None, 150)               0         \n",
            "_________________________________________________________________\n",
            "dense_11 (Dense)             (None, 150)               22650     \n",
            "_________________________________________________________________\n",
            "leaky_re_lu_10 (LeakyReLU)   (None, 150)               0         \n",
            "_________________________________________________________________\n",
            "dense_12 (Dense)             (None, 150)               22650     \n",
            "_________________________________________________________________\n",
            "leaky_re_lu_11 (LeakyReLU)   (None, 150)               0         \n",
            "_________________________________________________________________\n",
            "dense_13 (Dense)             (None, 150)               22650     \n",
            "_________________________________________________________________\n",
            "leaky_re_lu_12 (LeakyReLU)   (None, 150)               0         \n",
            "_________________________________________________________________\n",
            "dense_14 (Dense)             (None, 150)               22650     \n",
            "_________________________________________________________________\n",
            "leaky_re_lu_13 (LeakyReLU)   (None, 150)               0         \n",
            "_________________________________________________________________\n",
            "dense_15 (Dense)             (None, 150)               22650     \n",
            "_________________________________________________________________\n",
            "leaky_re_lu_14 (LeakyReLU)   (None, 150)               0         \n",
            "_________________________________________________________________\n",
            "dense_16 (Dense)             (None, 150)               22650     \n",
            "_________________________________________________________________\n",
            "leaky_re_lu_15 (LeakyReLU)   (None, 150)               0         \n",
            "_________________________________________________________________\n",
            "dense_17 (Dense)             (None, 1)                 151       \n",
            "=================================================================\n",
            "Total params: 377,701\n",
            "Trainable params: 377,701\n",
            "Non-trainable params: 0\n",
            "_________________________________________________________________\n"
          ],
          "name": "stdout"
        }
      ]
    },
    {
      "cell_type": "markdown",
      "metadata": {
        "id": "lBmUvKrtVKek"
      },
      "source": [
        "- Nous voyons donc que notre modèle contient $377,701$ paramètres"
      ]
    },
    {
      "cell_type": "markdown",
      "metadata": {
        "id": "kpYhItB9WnJ4"
      },
      "source": [
        "### Prédictions\n",
        "\n",
        "- Nous pouvons utiliser la matrice $X_{test}$ créée en question 2) pour notre prédiction"
      ]
    },
    {
      "cell_type": "code",
      "metadata": {
        "id": "lBDXd4FMOn9w"
      },
      "source": [
        "from keras.models import load_model\n",
        "ANN = load_model(\"/content/drive/MyDrive/Colab Notebooks Centrale/Deep Learning in Finance/ANN_Hurst_model/ANN_Hurst.h5\")"
      ],
      "execution_count": null,
      "outputs": []
    },
    {
      "cell_type": "code",
      "metadata": {
        "colab": {
          "base_uri": "https://localhost:8080/"
        },
        "id": "KTjT6Q95JuCX",
        "outputId": "2eced39b-ce5c-4884-ff10-fce4f05e0e08"
      },
      "source": [
        "predict = ANN.predict(X_test)\n",
        "predict"
      ],
      "execution_count": null,
      "outputs": [
        {
          "output_type": "execute_result",
          "data": {
            "text/plain": [
              "array([[0.       ],\n",
              "       [0.       ],\n",
              "       [0.       ],\n",
              "       ...,\n",
              "       [0.7662225],\n",
              "       [0.748193 ],\n",
              "       [0.743004 ]], dtype=float32)"
            ]
          },
          "metadata": {
            "tags": []
          },
          "execution_count": 22
        }
      ]
    },
    {
      "cell_type": "markdown",
      "metadata": {
        "id": "2cdBzh-CVtSI"
      },
      "source": [
        "### Histograme des premières valeurs prédites (pour $H=0.01$ et $H=0.99$)"
      ]
    },
    {
      "cell_type": "code",
      "metadata": {
        "colab": {
          "base_uri": "https://localhost:8080/",
          "height": 320
        },
        "id": "6MhgLizSJx9L",
        "outputId": "3bc88e2d-135c-4233-cf12-fe0f87089e36"
      },
      "source": [
        "# Histogrammes\n",
        "fig, ax = plt.subplots(1,2,figsize=(15,5))\n",
        "sns.histplot(predict[:M], ax=ax[0], bins=100);\n",
        "ax[0].axvline(Hs[0], label=\"$H=0.01$\", color=\"r\");\n",
        "sns.histplot(predict[-M:], ax=ax[1]);\n",
        "ax[1].axvline(Hs[-1], label=\"$H=0.99$\", color=\"r\");\n",
        "ax[1].set_ylim(0,150)\n",
        "plt.legend();"
      ],
      "execution_count": null,
      "outputs": [
        {
          "output_type": "display_data",
          "data": {
            "image/png": "[encoded data removed]",
            "text/plain": [
              "<Figure size 1080x360 with 2 Axes>"
            ]
          },
          "metadata": {
            "tags": [],
            "needs_background": "light"
          }
        }
      ]
    },
    {
      "cell_type": "markdown",
      "metadata": {
        "id": "OFVWIC96XF1o"
      },
      "source": [
        "- Nous voyons que pour les $1000$ premières prédictions (censées estimer $H=0.01$), l'estimation pourrait être bien meilleure.\n",
        "\n",
        "- Puis, nous voyons que pour $H=0.99$, notre ANN n'arrive clairement pas à s'en rapprocher, et reste \"bloqué\" aux alentours de 0.76."
      ]
    },
    {
      "cell_type": "markdown",
      "metadata": {
        "id": "Xxf9B5HZQy_6"
      },
      "source": [
        "## 4) MBE et RMSE (ANN)\n",
        "\n",
        "- Comme nous sommes dans un cas de régression, nous allons utiliser les mesures RMSE et MAE.\n",
        "\n",
        "- Pour la Root Mean Squared Error (RMSE), on a : \n",
        "\n",
        "  - $$RMSE = \\sqrt{\\sum\\limits_{i=1}^{N}\\frac{(\\hat{y}_i - y_i)^{2}}{N}}$$\n",
        "  - Puise que les erreurs sont au carré, cela signifie que le RMSE accorde un plus grande importance pour les grandes erreurs. \n",
        "\n",
        "- Pour la Mean Bias Error (MBE), on a :\n",
        "\n",
        "  - $$MBE = \\frac{1}{N}\\sum\\limits_{i=1}^{N}(\\hat{y}_i - y_i)$$"
      ]
    },
    {
      "cell_type": "code",
      "metadata": {
        "id": "xnYUxUSEHJuQ"
      },
      "source": [
        "def RMSE(y_pred,y):\n",
        "  return np.sqrt(np.sum((y_pred - y)**2)/len(y_pred))"
      ],
      "execution_count": null,
      "outputs": []
    },
    {
      "cell_type": "code",
      "metadata": {
        "id": "kRri9KZYJ5He"
      },
      "source": [
        "# Biais et RMSE\n",
        "biais = np.zeros(100)\n",
        "RMSE_val = np.zeros(100)\n",
        "\n",
        "for i in range(100):\n",
        "    biais[i] = np.mean(predict[i*M:(i+1)*M] - Hs[i])\n",
        "    RMSE_val[i] = RMSE(predict[i*M:(i+1)*M], Hs[i])"
      ],
      "execution_count": null,
      "outputs": []
    },
    {
      "cell_type": "code",
      "metadata": {
        "colab": {
          "base_uri": "https://localhost:8080/",
          "height": 534
        },
        "id": "edXBA77QRa2L",
        "outputId": "75d6569c-6d8f-451e-ab53-d1357b4aba04"
      },
      "source": [
        "fig, ax = plt.subplots(1,2,figsize=(25,8))\n",
        "# ax[0].grid();ax[1].grid()\n",
        "ax[0].set(xlabel=r\"$H$\");ax[1].set(xlabel=r\"$H$\")\n",
        "ax[0].plot(Hs, RMSE_val, color=\"red\", label=\"RMSE_ANN\")\n",
        "# ax[0].plot(Hs, RMSE_val_classic, color=\"blue\", label=\"RMSE_classic\")\n",
        "ax[1].plot(Hs, biais, color=\"purple\", label=\"Biais_ANN\")\n",
        "# ax[1].plot(Hs, biais_classic, color=\"aqua\", label=\"Biais_classic\")\n",
        "ax[0].legend();ax[1].legend();\n",
        "plt.title(\"RMSE et MBE pour ANN\")"
      ],
      "execution_count": null,
      "outputs": [
        {
          "output_type": "execute_result",
          "data": {
            "text/plain": [
              "Text(0.5, 1.0, 'RMSE et MBE pour ANN')"
            ]
          },
          "metadata": {
            "tags": []
          },
          "execution_count": 30
        },
        {
          "output_type": "display_data",
          "data": {
            "image/png": "[encoded data removed]",
            "text/plain": [
              "<Figure size 1800x576 with 2 Axes>"
            ]
          },
          "metadata": {
            "tags": [],
            "needs_background": "light"
          }
        }
      ]
    },
    {
      "cell_type": "markdown",
      "metadata": {
        "id": "VayNTlPfYsTf"
      },
      "source": [
        "- Nous pouvons clairement voir que le réseau dense est un bon estimateur, au vu des faibles biais et RMSE.\n",
        "\n",
        "- Cependant, on remarque qu'aux alentours de $H=1$, l'estimateur perd fortement en efficacité."
      ]
    },
    {
      "cell_type": "markdown",
      "metadata": {
        "id": "8XjRB2OfQiau"
      },
      "source": [
        "## 5) MAE (ANN)\n",
        "\n",
        "- Nous allons ici utilise la Mean Absolute Error : \n",
        "\n",
        "$$ MAE = \\frac{1}{N}\\sum\\limits_{i=1}^{N}\\left| \\hat{y}_i - y_i\\right|$$ \n",
        "\n",
        "- La MAE ne considère pas la \"direction\" des erreus, à l'inverse du biais. Et toutes les erreurs ont le même poids (comme le biais)."
      ]
    },
    {
      "cell_type": "code",
      "metadata": {
        "id": "LIjtW-14J5tU"
      },
      "source": [
        "def MAE(y_pred,y):\n",
        "  return np.sum(np.abs(y_pred - y))/len(y_pred)"
      ],
      "execution_count": null,
      "outputs": []
    },
    {
      "cell_type": "code",
      "metadata": {
        "id": "bcnQJkfvJ5qZ"
      },
      "source": [
        "MAE_val = np.zeros(100)\n",
        "for i in range(100):\n",
        "    MAE_val[i] = MAE(predict[i*M:(i+1)*M], Hs[i])"
      ],
      "execution_count": null,
      "outputs": []
    },
    {
      "cell_type": "code",
      "metadata": {
        "id": "v4Ye11MbJ5nR",
        "colab": {
          "base_uri": "https://localhost:8080/",
          "height": 517
        },
        "outputId": "b77138a9-b61b-4386-fad3-d1e3d75d471b"
      },
      "source": [
        "fig, ax = plt.subplots(figsize=(12,8))\n",
        "ax.set(xlabel=r\"$H$\")\n",
        "ax.plot(Hs, MAE_val, color=\"orange\", label=\"MAE_ANN\")\n",
        "ax.legend()\n",
        "plt.title(\"MAE pour ANN\");"
      ],
      "execution_count": null,
      "outputs": [
        {
          "output_type": "display_data",
          "data": {
            "image/png": "[encoded data removed]",
            "text/plain": [
              "<Figure size 864x576 with 1 Axes>"
            ]
          },
          "metadata": {
            "tags": [],
            "needs_background": "light"
          }
        }
      ]
    },
    {
      "cell_type": "markdown",
      "metadata": {
        "id": "1YTpjcMJKliq"
      },
      "source": [
        "- De même que pour le bais et le RMSE, le MAE montre que l'ANN est un bon estimateur jusqu'à environ$H=0.8$."
      ]
    },
    {
      "cell_type": "markdown",
      "metadata": {
        "id": "a4icgUvqzuHl"
      },
      "source": [
        "--- \n",
        "# 2 - Réseaux convolutifs (CNN)\n",
        "\n",
        "- Le mouvement brownien fractionnaire que nous générons est donc une série temporelle, présentant donc une dépendance temporelle (de plus si $H \\ne \\frac{1}{2}$ on a une longue mémoire), et est défini comme une convolution. \\\\\n",
        "Ainsi, les CNNS semblent être plus appropriés."
      ]
    },
    {
      "cell_type": "markdown",
      "metadata": {
        "id": "sDhWkc3i0R8l"
      },
      "source": [
        "## 1) Architecture du CNN de H.Stone, QF (2020)\n",
        "\n",
        "- On note que dans son article, H.Stone a comparé son modèle avec la méthode des moments, connue pour être imprécise. \n",
        "  - Une meilleure approche serait de comparer les résultats des réseaux avec la méthode Wavelet, réputée meilleure."
      ]
    },
    {
      "cell_type": "code",
      "metadata": {
        "id": "ZyE5xOWJ0KvT"
      },
      "source": [
        "from keras.models import Sequential\n",
        "from keras.layers import Conv1D\n",
        "from keras.layers import MaxPool1D\n",
        "from keras.layers import Flatten\n",
        "from keras.layers import Dense\n",
        "from keras.layers import LeakyReLU"
      ],
      "execution_count": null,
      "outputs": []
    },
    {
      "cell_type": "code",
      "metadata": {
        "id": "1euiktzfdtjm"
      },
      "source": [
        "from keras.callbacks import EarlyStopping\n",
        "es = EarlyStopping(monitor=\"val_loss\", mode=\"min\", patience=10) "
      ],
      "execution_count": null,
      "outputs": []
    },
    {
      "cell_type": "code",
      "metadata": {
        "colab": {
          "base_uri": "https://localhost:8080/"
        },
        "id": "_WVs-tnz8L_4",
        "outputId": "f2e5221f-6334-4a7d-f70c-da05b0c74459"
      },
      "source": [
        "# Initialisation\n",
        "CNN = Sequential()\n",
        "\n",
        "# kernel_size = 3\n",
        "# Convolution\n",
        "CNN.add(Conv1D(filters=32, kernel_size = 3, strides=1, input_shape=(100, 1), padding=\"valid\"))\n",
        "CNN.add(LeakyReLU(alpha=0.1))\n",
        "# Max Pooling\n",
        "CNN.add(MaxPool1D(pool_size=3, strides=1, padding='valid'))\n",
        "\n",
        "CNN.add(Dropout(rate=0.25))\n",
        "\n",
        "# Convolution 2\n",
        "CNN.add(Conv1D(filters=64, kernel_size = 3, strides=1, padding=\"valid\"))\n",
        "CNN.add(LeakyReLU(alpha=0.1))\n",
        "# Max Pooling 2\n",
        "CNN.add(MaxPool1D(pool_size=3, strides=1, padding='valid'))\n",
        "\n",
        "CNN.add(Dropout(rate=0.25))\n",
        "\n",
        "# Convolution 3\n",
        "CNN.add(Conv1D(filters=128, kernel_size = 3, strides=1, padding=\"valid\"))\n",
        "CNN.add(LeakyReLU(alpha=0.1))\n",
        "# Max Pooling 3\n",
        "CNN.add(MaxPool1D(pool_size=3, strides=1, padding='valid'))\n",
        "\n",
        "CNN.add(Dropout(rate=0.4))\n",
        "\n",
        "# Flattening\n",
        "CNN.add(Flatten())\n",
        "\n",
        "# ANN complétement connecté \n",
        "CNN.add(Dense(units=128, activation=\"relu\"))\n",
        "\n",
        "CNN.add(Dropout(rate=0.3))\n",
        "\n",
        "CNN.add(Dense(units=1, activation=\"sigmoid\"))\n",
        "\n",
        "CNN.compile(optimizer=\"adam\", loss=\"mse\", metrics=[\"mean_squared_error\"])\n",
        "\n",
        "CNN.fit(np.expand_dims(X_train, axis=2), Y_train, validation_split=0.2, epochs=30, batch_size=64, callbacks=[es])"
      ],
      "execution_count": null,
      "outputs": [
        {
          "output_type": "stream",
          "text": [
            "Epoch 1/30\n",
            "1250/1250 [==============================] - 100s 79ms/step - loss: 0.0055 - mean_squared_error: 0.0055 - val_loss: 0.0221 - val_mean_squared_error: 0.0221\n",
            "Epoch 2/30\n",
            "1250/1250 [==============================] - 98s 79ms/step - loss: 6.6982e-04 - mean_squared_error: 6.6982e-04 - val_loss: 0.0259 - val_mean_squared_error: 0.0259\n",
            "Epoch 3/30\n",
            "1250/1250 [==============================] - 98s 79ms/step - loss: 5.8606e-04 - mean_squared_error: 5.8606e-04 - val_loss: 0.0260 - val_mean_squared_error: 0.0260\n",
            "Epoch 4/30\n",
            "1250/1250 [==============================] - 98s 79ms/step - loss: 5.3938e-04 - mean_squared_error: 5.3938e-04 - val_loss: 0.0274 - val_mean_squared_error: 0.0274\n",
            "Epoch 5/30\n",
            "1250/1250 [==============================] - 98s 79ms/step - loss: 5.0767e-04 - mean_squared_error: 5.0767e-04 - val_loss: 0.0247 - val_mean_squared_error: 0.0247\n",
            "Epoch 6/30\n",
            "1250/1250 [==============================] - 98s 79ms/step - loss: 5.0341e-04 - mean_squared_error: 5.0341e-04 - val_loss: 0.0259 - val_mean_squared_error: 0.0259\n",
            "Epoch 7/30\n",
            "1250/1250 [==============================] - 98s 79ms/step - loss: 4.8714e-04 - mean_squared_error: 4.8714e-04 - val_loss: 0.0259 - val_mean_squared_error: 0.0259\n",
            "Epoch 8/30\n",
            "1250/1250 [==============================] - 99s 79ms/step - loss: 5.0659e-04 - mean_squared_error: 5.0659e-04 - val_loss: 0.0235 - val_mean_squared_error: 0.0235\n",
            "Epoch 9/30\n",
            "1250/1250 [==============================] - 99s 79ms/step - loss: 4.9165e-04 - mean_squared_error: 4.9165e-04 - val_loss: 0.0280 - val_mean_squared_error: 0.0280\n",
            "Epoch 10/30\n",
            "1250/1250 [==============================] - 98s 78ms/step - loss: 4.7682e-04 - mean_squared_error: 4.7682e-04 - val_loss: 0.0275 - val_mean_squared_error: 0.0275\n",
            "Epoch 11/30\n",
            "1250/1250 [==============================] - 98s 78ms/step - loss: 4.7322e-04 - mean_squared_error: 4.7322e-04 - val_loss: 0.0231 - val_mean_squared_error: 0.0231\n"
          ],
          "name": "stdout"
        },
        {
          "output_type": "execute_result",
          "data": {
            "text/plain": [
              "<tensorflow.python.keras.callbacks.History at 0x7fc411e7b3c8>"
            ]
          },
          "metadata": {
            "tags": []
          },
          "execution_count": 36
        }
      ]
    },
    {
      "cell_type": "code",
      "metadata": {
        "id": "_3dxIZhCc9BY"
      },
      "source": [
        "# On sauvegarde notre modèle\n",
        "CNN.save(\"/content/drive/MyDrive/Colab Notebooks Centrale/Deep Learning in Finance/CNN_Hurst_model/CNN_Hurst.h5\")"
      ],
      "execution_count": null,
      "outputs": []
    },
    {
      "cell_type": "code",
      "metadata": {
        "id": "0dCh1rokO4iC"
      },
      "source": [
        "from keras.models import load_model\n",
        "CNN = load_model(\"/content/drive/MyDrive/Colab Notebooks Centrale/Deep Learning in Finance/CNN_Hurst_model/CNN_Hurst.h5\")"
      ],
      "execution_count": null,
      "outputs": []
    },
    {
      "cell_type": "code",
      "metadata": {
        "colab": {
          "base_uri": "https://localhost:8080/"
        },
        "id": "Krli5OxrKW6G",
        "outputId": "a290eda4-4854-4840-a493-f510dd113a7b"
      },
      "source": [
        "predict_CNN = CNN.predict(np.expand_dims(X_test, axis=2))\n",
        "predict_CNN"
      ],
      "execution_count": null,
      "outputs": [
        {
          "output_type": "execute_result",
          "data": {
            "text/plain": [
              "array([[0.00098291],\n",
              "       [0.00129694],\n",
              "       [0.00209567],\n",
              "       ...,\n",
              "       [0.7954713 ],\n",
              "       [0.7953717 ],\n",
              "       [0.79708505]], dtype=float32)"
            ]
          },
          "metadata": {
            "tags": []
          },
          "execution_count": 38
        }
      ]
    },
    {
      "cell_type": "markdown",
      "metadata": {
        "id": "qJ6x4TjTc0ZX"
      },
      "source": [
        "### Histograme des premières valeurs prédites (pour $H=0.01$ et $H=0.99$)"
      ]
    },
    {
      "cell_type": "code",
      "metadata": {
        "colab": {
          "base_uri": "https://localhost:8080/",
          "height": 341
        },
        "id": "XWJMGqfgo2uB",
        "outputId": "afbdfc67-6616-4ad9-9c3e-78018ba144e7"
      },
      "source": [
        "# Histogrammes\n",
        "fig, ax = plt.subplots(1,2,figsize=(15,5))\n",
        "sns.histplot(predict_CNN[:M], ax=ax[0]);\n",
        "ax[0].axvline(Hs[0], label=\"$H=0.01$\", color=\"r\");\n",
        "sns.histplot(predict_CNN[-M:], ax=ax[1]);\n",
        "ax[1].axvline(Hs[-1], label=\"$H=0.99$\", color=\"r\");\n",
        "ax[1].set_ylim(0,100)\n",
        "plt.legend()"
      ],
      "execution_count": null,
      "outputs": [
        {
          "output_type": "execute_result",
          "data": {
            "text/plain": [
              "<matplotlib.legend.Legend at 0x7fc40f40ab70>"
            ]
          },
          "metadata": {
            "tags": []
          },
          "execution_count": 44
        },
        {
          "output_type": "display_data",
          "data": {
            "image/png": "[encoded data removed]",
            "text/plain": [
              "<Figure size 1080x360 with 2 Axes>"
            ]
          },
          "metadata": {
            "tags": [],
            "needs_background": "light"
          }
        }
      ]
    },
    {
      "cell_type": "markdown",
      "metadata": {
        "id": "HmunlmKTiLA5"
      },
      "source": [
        "- Nous voyons que exaxtement les mêmes caractéristiques que pour l'ANN, sauf que les predictions du CNN sont moins figées."
      ]
    },
    {
      "cell_type": "markdown",
      "metadata": {
        "id": "O8XShKTxtg2C"
      },
      "source": [
        "## 3) MBE et RMSE (CNN et ANN)"
      ]
    },
    {
      "cell_type": "code",
      "metadata": {
        "id": "e3SEE8Pmq7f-"
      },
      "source": [
        "# Biais et RMSE\n",
        "biais_CNN = np.zeros(100)\n",
        "RMSE_val_CNN = np.zeros(100)\n",
        "\n",
        "for i in range(100):\n",
        "    biais_CNN[i] = np.mean(predict_CNN[i*M:(i+1)*M] - Hs[i])\n",
        "    RMSE_val_CNN[i] = RMSE(predict_CNN[i*M:(i+1)*M], Hs[i])"
      ],
      "execution_count": null,
      "outputs": []
    },
    {
      "cell_type": "code",
      "metadata": {
        "colab": {
          "base_uri": "https://localhost:8080/",
          "height": 517
        },
        "id": "JCUoPXvtsVl0",
        "outputId": "e9a29a1c-0f39-40cc-f854-c92e8c8843af"
      },
      "source": [
        "fig, ax = plt.subplots(1,2,figsize=(25,8))\n",
        "ax[0].set(xlabel=r\"$H$\");ax[1].set(xlabel=r\"$H$\")\n",
        "ax[0].plot(Hs, RMSE_val_CNN, color=\"red\", label=\"RMSE_CNN\")\n",
        "ax[0].plot(Hs, RMSE_val, color=\"blue\", label=\"RMSE_ANN\")\n",
        "ax[1].plot(Hs, biais_CNN, color=\"purple\", label=\"Biais_CNN\")\n",
        "ax[1].plot(Hs, biais, color=\"aqua\", label=\"Biais_ANN\")\n",
        "ax[0].legend();ax[1].legend();\n",
        "plt.title(\"RMSE et MBE pour CNN\");"
      ],
      "execution_count": null,
      "outputs": [
        {
          "output_type": "display_data",
          "data": {
            "image/png": "[encoded data removed]",
            "text/plain": [
              "<Figure size 1800x576 with 2 Axes>"
            ]
          },
          "metadata": {
            "tags": [],
            "needs_background": "light"
          }
        }
      ]
    },
    {
      "cell_type": "markdown",
      "metadata": {
        "id": "BTZ2li-6tQ88"
      },
      "source": [
        "- D'un point de vue RMSE :\n",
        "  - pour $H < 0.4$, le réseau dense est meilleur que le convolutionnel.\n",
        "  - pour $H > 0.4$, c'est l'inverse. \n",
        "\n",
        "- En terme de biais :\n",
        "  - pur $H < 0.7$ environ, le biais de l'ANN est clairment inférieur à celui du CNN.\n",
        "  - Quand $H$ se rapproche de $1$, le biais du réseau dense devient plus grand que celui du $CNN$, comme dans le cas du RMSE d'ailleurs. \n",
        "\n",
        "- Sachant que le coefficient de Hurst pour une série financière est aux alentours de $H=0.15$, cela pousserait a privilégier l'ANN."
      ]
    },
    {
      "cell_type": "markdown",
      "metadata": {
        "id": "yoT3qjmHwTMu"
      },
      "source": [
        "## 4) MAE (CNN et ANN)"
      ]
    },
    {
      "cell_type": "code",
      "metadata": {
        "id": "mYfabk2nsvfP"
      },
      "source": [
        "MAE_val_CNN = np.zeros(100)\n",
        "for i in range(100):\n",
        "    MAE_val_CNN[i] = MAE(predict_CNN[i*M:(i+1)*M], Hs[i])"
      ],
      "execution_count": null,
      "outputs": []
    },
    {
      "cell_type": "code",
      "metadata": {
        "colab": {
          "base_uri": "https://localhost:8080/",
          "height": 517
        },
        "id": "uaVDKbzxwYpR",
        "outputId": "350519e3-c6ad-4810-ce13-8e0e0f4e711a"
      },
      "source": [
        "fig, ax = plt.subplots(figsize=(12,8))\n",
        "ax.set(xlabel=r\"$H$\")\n",
        "ax.plot(Hs, MAE_val_CNN, color=\"green\", label=\"MAE_CNN\")\n",
        "ax.plot(Hs, MAE_val, color=\"orange\", label=\"MAE_ANN\")\n",
        "ax.legend()\n",
        "plt.title(\"MAE pour CNN et ANN\");"
      ],
      "execution_count": null,
      "outputs": [
        {
          "output_type": "display_data",
          "data": {
            "image/png": "[encoded data removed]",
            "text/plain": [
              "<Figure size 864x576 with 1 Axes>"
            ]
          },
          "metadata": {
            "tags": [],
            "needs_background": "light"
          }
        }
      ]
    },
    {
      "cell_type": "markdown",
      "metadata": {
        "id": "UlFeVONlw0jX"
      },
      "source": [
        "- Nous observons les mêmes choses que pour le RMSE, mis à part le fait que l'ANN devient moins bon pour un $H$ légèrement supérieur à $0.4$."
      ]
    },
    {
      "cell_type": "markdown",
      "metadata": {
        "id": "CJobzvpdIQ-_"
      },
      "source": [
        "# 5) Comparer l'ANN et le CNN \n",
        "\n",
        "- Au vu des trois mesures de risques présentées dans cette partie et la précédente pour les deux réseaux, l'avis est forcément mitigé. Cependant on peut dire que pour des $H < 0.5$ le réseau dense est meilleur que le CNN de H.Stone, et en se basant sur les recherches récentes effectuées ($H \\sim 0.15$ pour les séries financières), nous pouvons dire que l'ANN est à privilégier.\n",
        "\n",
        "- En plus de ca, il est clairement moins couteux en temps de calcul.\n",
        "\n",
        "- On pourrait également se demander pourquoi les deux estimateurs peinent à estimer $H$ lorsque celui-ci tend vers $1$ et restent \"figés\" vers $0.8$.\n",
        "  - On plot deux mouvements browniens fractionnaires, pour $H=0.01$ et pour $H=0.99$."
      ]
    },
    {
      "cell_type": "code",
      "metadata": {
        "colab": {
          "base_uri": "https://localhost:8080/",
          "height": 377
        },
        "id": "k01VDjcDA0TR",
        "outputId": "8010fc1c-bd92-4046-856b-bb88263147db"
      },
      "source": [
        "fig, ax = plt.subplots(figsize=(8,5))\n",
        "plt.plot(fbm(99, 0.99, length=1), label=\"H=0.99\")\n",
        "plt.plot(fbm(99, 0.01, length=1), label=\"H=0.01\")\n",
        "plt.legend();"
      ],
      "execution_count": null,
      "outputs": [
        {
          "output_type": "stream",
          "text": [
            "/usr/local/lib/python3.6/dist-packages/fbm/fbm.py:172: UserWarning: Combination of increments n and Hurst value H invalid for Davies-Harte method. Reverting to Hosking method. Occurs when n is small and Hurst is close to 1. \n",
            "  \"Combination of increments n and Hurst value H \"\n"
          ],
          "name": "stderr"
        },
        {
          "output_type": "display_data",
          "data": {
            "image/png": "[encoded data removed]",
            "text/plain": [
              "<Figure size 576x360 with 1 Axes>"
            ]
          },
          "metadata": {
            "tags": [],
            "needs_background": "light"
          }
        }
      ]
    },
    {
      "cell_type": "markdown",
      "metadata": {
        "id": "XSOU75FxmGZY"
      },
      "source": [
        "- On voit donc que plus $H$ est proche de $1$ et plus le mouvement est lisse. En fait si $H=1$ le mouvement est ballistique, ce qui n'est pas du tout intéressant pour la volatilité.\n",
        "\n",
        "- Peut être que le réseau n'arrive pas à détecter de features intrinsèques au processus vu à quel point il est lisse,\n",
        "  - c'est à dire que les fBM avec un $H$ proche de $1$ vont être difficilement différenciables, \n",
        "  - alors que ceux avec plus de fluctuations le seront bien plus, intuitivement."
      ]
    },
    {
      "cell_type": "markdown",
      "metadata": {
        "id": "Bn1ff_8CMyiK"
      },
      "source": [
        "---\n",
        "# 3 - Wavelets\n",
        "\n",
        "- Ici nous allons essayer d'estimer l'exposant de Hurst avec la méthode Wavelets\n",
        "  - Pour ca il faut utiliser le package de R \"liftLRD\". \n",
        "  - Nous allons donc utilser R depuis Python\n",
        "  - Puis nous comparerons les résutats obtenus\n",
        "  - Cela permettra de situer les réseaux de neurones vis à vis du meilleur estimateur \"classique\""
      ]
    },
    {
      "cell_type": "markdown",
      "metadata": {
        "id": "qU3sfzOgN9aV"
      },
      "source": [
        "### Importation de la fonction depuis R"
      ]
    },
    {
      "cell_type": "code",
      "metadata": {
        "id": "4ACLRYafMkRU"
      },
      "source": [
        "%%capture\n",
        "from rpy2.robjects.packages import importr\n",
        "utils = importr(\"utils\")\n",
        "utils.install_packages(\"liftLRD\")\n",
        "\n",
        "# conversion numpy <-> objets R\n",
        "import rpy2.robjects.numpy2ri\n",
        "rpy2.robjects.numpy2ri.activate()\n",
        "\n",
        "# charger la bibliothèque\n",
        "liftLRD = importr(\"liftLRD\")"
      ],
      "execution_count": null,
      "outputs": []
    },
    {
      "cell_type": "markdown",
      "metadata": {
        "id": "QE_53h83OEaF"
      },
      "source": [
        "### Application\n",
        "\n",
        "- La fonction lift.Hurst excutée dans Google Colab faisait exploser la RAM de la session. Nous avons donc choisi de la faire tourner en local, puis d'exporter le résultat en fichier csv.\n",
        "\n",
        "- Le temps de calcul étant relativement long, on se limite à M = 100 (4h30 de calcul)"
      ]
    },
    {
      "cell_type": "markdown",
      "metadata": {
        "id": "OC9rvOLJgUQg"
      },
      "source": [
        "# 1) Implémentation"
      ]
    },
    {
      "cell_type": "code",
      "metadata": {
        "id": "ISBLfqr1ajPm"
      },
      "source": [
        "# Choisir la valeur de M qui correspond à M_test \r\n",
        "M = 100\r\n",
        "H_waves = np.zeros((100,M))\r\n",
        "\r\n",
        "\r\n",
        "for i in tqdm(range(100), desc=\" H \"):\r\n",
        "  X_h = X_test[i*M:(i+1)*M,:] \r\n",
        "  #print('Valeur de H',i)\r\n",
        "  # Pour une valeur de H donnée \r\n",
        "  for j in  tqdm(range(M), desc=\"M\"):\r\n",
        "    #print('Pour H =',i,'serie temp',j)\r\n",
        "    # Pour une série temporelle donnée\r\n",
        "    H_waves[i,j] = liftLRD.liftHurst(np.diff(X_h[j,:]))[1]"
      ],
      "execution_count": null,
      "outputs": []
    },
    {
      "cell_type": "code",
      "metadata": {
        "id": "npKEQWWtfmFb"
      },
      "source": [
        "# Calcul du biais, RMSE et MAE\r\n",
        "\r\n",
        "MAE_val_waves = np.zeros(100)\r\n",
        "biais_val_waves = np.zeros(100)\r\n",
        "RMSE_val_waves = np.zeros(100)\r\n",
        "\r\n",
        "\r\n",
        "for i in range(100):\r\n",
        "    MAE_val_waves[i] = MAE(H_waves[i*M:(i+1)*M], Hs[i])\r\n",
        "    biais_val_waves[i] = np.mean(H_waves[i*M:(i+1)*M] - Hs[i])\r\n",
        "    RMSE_val_waves[i] = RMSE(H_waves[i*M:(i+1)*M], Hs[i])\r\n"
      ],
      "execution_count": null,
      "outputs": []
    },
    {
      "cell_type": "markdown",
      "metadata": {
        "id": "yGgGPyzxgDvN"
      },
      "source": [
        "# 2) Biais "
      ]
    },
    {
      "cell_type": "code",
      "metadata": {
        "id": "B-9rBvBNfn2a"
      },
      "source": [
        "# Affichage du biais \r\n",
        "\r\n",
        "plt.plot(Hs,biais_val_waves,label='Biais_Waves',color='c')\r\n",
        "plt.xlabel('H')\r\n",
        "plt.ylabel('biais')\r\n",
        "plt.legend()\r\n",
        "plt.show()"
      ],
      "execution_count": null,
      "outputs": []
    },
    {
      "cell_type": "markdown",
      "metadata": {
        "id": "Dgh4XsDwf-Up"
      },
      "source": [
        "## 3) MAE"
      ]
    },
    {
      "cell_type": "code",
      "metadata": {
        "id": "sEVyJ9LLfqPC"
      },
      "source": [
        "# Affichage du MAE\r\n",
        "\r\n",
        "plt.plot(Hs,MAE_val_waves,label='MAE_Waves',color='m')\r\n",
        "plt.xlabel('H')\r\n",
        "plt.ylabel('MAE')\r\n",
        "plt.legend()\r\n",
        "plt.show()"
      ],
      "execution_count": null,
      "outputs": []
    },
    {
      "cell_type": "code",
      "metadata": {
        "id": "nYvsxZAafshl"
      },
      "source": [
        "# Affichage du RMSE\r\n",
        "\r\n",
        "plt.plot(Hs,RMSE_val_waves,label='RMSE_Waves',color='y')\r\n",
        "plt.xlabel('H')\r\n",
        "plt.ylabel('RMSE')\r\n",
        "plt.legend()\r\n",
        "plt.show()"
      ],
      "execution_count": null,
      "outputs": []
    },
    {
      "cell_type": "code",
      "metadata": {
        "id": "_EdI4O0Z1FTR"
      },
      "source": [
        ""
      ],
      "execution_count": null,
      "outputs": []
    },
    {
      "cell_type": "markdown",
      "metadata": {
        "id": "OLCqCPwN1F6z"
      },
      "source": [
        "- A faire : refaire tourner sur Colab afin de montrer que les Neural Networks sont mieux"
      ]
    },
    {
      "cell_type": "code",
      "metadata": {
        "id": "YjZJ44291JT0"
      },
      "source": [
        ""
      ],
      "execution_count": null,
      "outputs": []
    }
  ]
}