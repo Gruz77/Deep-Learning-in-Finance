{
  "nbformat": 4,
  "nbformat_minor": 0,
  "metadata": {
    "colab": {
      "name": "TP5_PredVol.ipynb",
      "provenance": [],
      "collapsed_sections": []
    },
    "kernelspec": {
      "name": "python3",
      "display_name": "Python 3"
    },
    "accelerator": "GPU"
  },
  "cells": [
    {
      "cell_type": "markdown",
      "metadata": {
        "id": "AQScNPhnBHG7"
      },
      "source": [
        "# <center> Prédiction de Volatilité <center/>\n",
        "---\n",
        "---"
      ]
    },
    {
      "cell_type": "code",
      "metadata": {
        "id": "uuSyeAunAIpc"
      },
      "source": [
        "import pandas as pd\n",
        "import pyarrow.parquet as pq\n",
        "import numpy as np\n",
        "import matplotlib.pyplot as plt\n",
        "import math\n",
        "import scipy.special as scsp\n",
        "from tqdm.notebook import tqdm\n",
        "plt.style.use(\"ggplot\")"
      ],
      "execution_count": 1,
      "outputs": []
    },
    {
      "cell_type": "code",
      "metadata": {
        "colab": {
          "base_uri": "https://localhost:8080/"
        },
        "id": "oNfvub3EAZeK",
        "outputId": "91eff1d7-46c9-4d77-c82e-eabfd010aa4f"
      },
      "source": [
        "# Import de nos drive pour les fichiers\n",
        "from google.colab import drive\n",
        "drive.mount('/content/drive')"
      ],
      "execution_count": 2,
      "outputs": [
        {
          "output_type": "stream",
          "text": [
            "Mounted at /content/drive\n"
          ],
          "name": "stdout"
        }
      ]
    },
    {
      "cell_type": "markdown",
      "metadata": {
        "id": "MFqxqUQjAqQH"
      },
      "source": [
        "---\n",
        "# 1 - Modèle\n",
        "\n",
        "# 1.1 - Volatilité rugueuse\n",
        "\n",
        "- Cette partie est une adaptation Python 3 du code du lien suivant : https://tpq.io/p/rough_volatility_with_python.html"
      ]
    },
    {
      "cell_type": "code",
      "metadata": {
        "id": "SySEAd7MFs3H",
        "colab": {
          "base_uri": "https://localhost:8080/",
          "height": 419
        },
        "outputId": "0ee50a80-a257-47f5-bf66-5299408434d5"
      },
      "source": [
        "data = pd.read_parquet(\"/content/drive/MyDrive/Colab Notebooks Centrale/Deep Learning in Finance/TP5_PredVol/oxfordmanrealizedvolatilityindices.parquet\")\n",
        "# data.set_index(\"index\", inplace=True)\n",
        "\n",
        "# data = pd.read_csv(\"/content/drive/MyDrive/Colab Notebooks Centrale/Deep Learning in Finance/TP5_PredVol/oxfordmanrealizedvolatilityindices.csv.gz\", index_col=0, parse_dates=True)\n",
        "# # data.set_index(\"index\", inplace=True)\n",
        "# data\n",
        "data"
      ],
      "execution_count": 3,
      "outputs": [
        {
          "output_type": "execute_result",
          "data": {
            "text/html": [
              "<div>\n",
              "<style scoped>\n",
              "    .dataframe tbody tr th:only-of-type {\n",
              "        vertical-align: middle;\n",
              "    }\n",
              "\n",
              "    .dataframe tbody tr th {\n",
              "        vertical-align: top;\n",
              "    }\n",
              "\n",
              "    .dataframe thead th {\n",
              "        text-align: right;\n",
              "    }\n",
              "</style>\n",
              "<table border=\"1\" class=\"dataframe\">\n",
              "  <thead>\n",
              "    <tr style=\"text-align: right;\">\n",
              "      <th></th>\n",
              "      <th>Symbol</th>\n",
              "      <th>close_price</th>\n",
              "      <th>open_to_close</th>\n",
              "      <th>medrv</th>\n",
              "      <th>rsv</th>\n",
              "      <th>rv5</th>\n",
              "      <th>rv10_ss</th>\n",
              "      <th>rv5_ss</th>\n",
              "      <th>bv_ss</th>\n",
              "      <th>rk_twoscale</th>\n",
              "      <th>open_price</th>\n",
              "      <th>bv</th>\n",
              "      <th>open_time</th>\n",
              "      <th>rv10</th>\n",
              "      <th>rk_parzen</th>\n",
              "      <th>close_time</th>\n",
              "      <th>rk_th2</th>\n",
              "      <th>rsv_ss</th>\n",
              "      <th>nobs</th>\n",
              "    </tr>\n",
              "  </thead>\n",
              "  <tbody>\n",
              "    <tr>\n",
              "      <th>2000-01-03 00:00:00+00:00</th>\n",
              "      <td>.AEX</td>\n",
              "      <td>675.44</td>\n",
              "      <td>-0.000340</td>\n",
              "      <td>0.000050</td>\n",
              "      <td>0.000046</td>\n",
              "      <td>0.000130</td>\n",
              "      <td>0.000178</td>\n",
              "      <td>0.000130</td>\n",
              "      <td>0.000100</td>\n",
              "      <td>0.000103</td>\n",
              "      <td>675.67</td>\n",
              "      <td>0.000100</td>\n",
              "      <td>90101.0</td>\n",
              "      <td>0.000178</td>\n",
              "      <td>0.000179</td>\n",
              "      <td>163015.0</td>\n",
              "      <td>0.000102</td>\n",
              "      <td>0.000046</td>\n",
              "      <td>1795.0</td>\n",
              "    </tr>\n",
              "    <tr>\n",
              "      <th>2000-01-04 00:00:00+00:00</th>\n",
              "      <td>.AEX</td>\n",
              "      <td>642.25</td>\n",
              "      <td>-0.033606</td>\n",
              "      <td>0.000075</td>\n",
              "      <td>0.000147</td>\n",
              "      <td>0.000201</td>\n",
              "      <td>0.000261</td>\n",
              "      <td>0.000201</td>\n",
              "      <td>0.000207</td>\n",
              "      <td>0.000199</td>\n",
              "      <td>664.20</td>\n",
              "      <td>0.000207</td>\n",
              "      <td>90416.0</td>\n",
              "      <td>0.000261</td>\n",
              "      <td>0.000423</td>\n",
              "      <td>163016.0</td>\n",
              "      <td>0.000201</td>\n",
              "      <td>0.000147</td>\n",
              "      <td>1785.0</td>\n",
              "    </tr>\n",
              "    <tr>\n",
              "      <th>2000-01-05 00:00:00+00:00</th>\n",
              "      <td>.AEX</td>\n",
              "      <td>632.31</td>\n",
              "      <td>-0.001675</td>\n",
              "      <td>0.000166</td>\n",
              "      <td>0.000328</td>\n",
              "      <td>0.000491</td>\n",
              "      <td>0.000714</td>\n",
              "      <td>0.000491</td>\n",
              "      <td>0.000361</td>\n",
              "      <td>0.000325</td>\n",
              "      <td>633.37</td>\n",
              "      <td>0.000361</td>\n",
              "      <td>90016.0</td>\n",
              "      <td>0.000714</td>\n",
              "      <td>0.000324</td>\n",
              "      <td>163016.0</td>\n",
              "      <td>0.000345</td>\n",
              "      <td>0.000328</td>\n",
              "      <td>1801.0</td>\n",
              "    </tr>\n",
              "    <tr>\n",
              "      <th>2000-01-06 00:00:00+00:00</th>\n",
              "      <td>.AEX</td>\n",
              "      <td>624.21</td>\n",
              "      <td>-0.013130</td>\n",
              "      <td>0.000152</td>\n",
              "      <td>0.000116</td>\n",
              "      <td>0.000225</td>\n",
              "      <td>0.000182</td>\n",
              "      <td>0.000225</td>\n",
              "      <td>0.000258</td>\n",
              "      <td>0.000218</td>\n",
              "      <td>632.46</td>\n",
              "      <td>0.000258</td>\n",
              "      <td>90016.0</td>\n",
              "      <td>0.000182</td>\n",
              "      <td>0.000219</td>\n",
              "      <td>163002.0</td>\n",
              "      <td>0.000221</td>\n",
              "      <td>0.000116</td>\n",
              "      <td>1799.0</td>\n",
              "    </tr>\n",
              "    <tr>\n",
              "      <th>2000-01-07 00:00:00+00:00</th>\n",
              "      <td>.AEX</td>\n",
              "      <td>644.86</td>\n",
              "      <td>0.025013</td>\n",
              "      <td>0.000039</td>\n",
              "      <td>0.000048</td>\n",
              "      <td>0.000138</td>\n",
              "      <td>0.000157</td>\n",
              "      <td>0.000138</td>\n",
              "      <td>0.000130</td>\n",
              "      <td>0.000126</td>\n",
              "      <td>628.93</td>\n",
              "      <td>0.000130</td>\n",
              "      <td>90046.0</td>\n",
              "      <td>0.000157</td>\n",
              "      <td>0.000155</td>\n",
              "      <td>163016.0</td>\n",
              "      <td>0.000123</td>\n",
              "      <td>0.000048</td>\n",
              "      <td>1798.0</td>\n",
              "    </tr>\n",
              "    <tr>\n",
              "      <th>...</th>\n",
              "      <td>...</td>\n",
              "      <td>...</td>\n",
              "      <td>...</td>\n",
              "      <td>...</td>\n",
              "      <td>...</td>\n",
              "      <td>...</td>\n",
              "      <td>...</td>\n",
              "      <td>...</td>\n",
              "      <td>...</td>\n",
              "      <td>...</td>\n",
              "      <td>...</td>\n",
              "      <td>...</td>\n",
              "      <td>...</td>\n",
              "      <td>...</td>\n",
              "      <td>...</td>\n",
              "      <td>...</td>\n",
              "      <td>...</td>\n",
              "      <td>...</td>\n",
              "      <td>...</td>\n",
              "    </tr>\n",
              "    <tr>\n",
              "      <th>2021-02-11 00:00:00+00:00</th>\n",
              "      <td>.STOXX50E</td>\n",
              "      <td>3668.43</td>\n",
              "      <td>0.003848</td>\n",
              "      <td>0.000013</td>\n",
              "      <td>0.000014</td>\n",
              "      <td>0.000028</td>\n",
              "      <td>0.000021</td>\n",
              "      <td>0.000028</td>\n",
              "      <td>0.000027</td>\n",
              "      <td>0.000032</td>\n",
              "      <td>3654.34</td>\n",
              "      <td>0.000027</td>\n",
              "      <td>90015.0</td>\n",
              "      <td>0.000021</td>\n",
              "      <td>0.000009</td>\n",
              "      <td>173015.0</td>\n",
              "      <td>0.000033</td>\n",
              "      <td>0.000014</td>\n",
              "      <td>4255.0</td>\n",
              "    </tr>\n",
              "    <tr>\n",
              "      <th>2021-02-12 00:00:00+00:00</th>\n",
              "      <td>.STOXX50E</td>\n",
              "      <td>3695.01</td>\n",
              "      <td>0.007053</td>\n",
              "      <td>0.000014</td>\n",
              "      <td>0.000014</td>\n",
              "      <td>0.000031</td>\n",
              "      <td>0.000036</td>\n",
              "      <td>0.000031</td>\n",
              "      <td>0.000032</td>\n",
              "      <td>0.000031</td>\n",
              "      <td>3669.04</td>\n",
              "      <td>0.000032</td>\n",
              "      <td>90015.0</td>\n",
              "      <td>0.000036</td>\n",
              "      <td>0.000026</td>\n",
              "      <td>173002.0</td>\n",
              "      <td>0.000032</td>\n",
              "      <td>0.000014</td>\n",
              "      <td>4157.0</td>\n",
              "    </tr>\n",
              "    <tr>\n",
              "      <th>2021-02-15 00:00:00+00:00</th>\n",
              "      <td>.STOXX50E</td>\n",
              "      <td>3738.69</td>\n",
              "      <td>0.007340</td>\n",
              "      <td>0.000008</td>\n",
              "      <td>0.000006</td>\n",
              "      <td>0.000024</td>\n",
              "      <td>0.000021</td>\n",
              "      <td>0.000024</td>\n",
              "      <td>0.000021</td>\n",
              "      <td>0.000020</td>\n",
              "      <td>3711.35</td>\n",
              "      <td>0.000021</td>\n",
              "      <td>90015.0</td>\n",
              "      <td>0.000021</td>\n",
              "      <td>0.000016</td>\n",
              "      <td>173001.0</td>\n",
              "      <td>0.000021</td>\n",
              "      <td>0.000006</td>\n",
              "      <td>4236.0</td>\n",
              "    </tr>\n",
              "    <tr>\n",
              "      <th>2021-02-16 00:00:00+00:00</th>\n",
              "      <td>.STOXX50E</td>\n",
              "      <td>3725.56</td>\n",
              "      <td>-0.002673</td>\n",
              "      <td>0.000012</td>\n",
              "      <td>0.000013</td>\n",
              "      <td>0.000026</td>\n",
              "      <td>0.000026</td>\n",
              "      <td>0.000026</td>\n",
              "      <td>0.000026</td>\n",
              "      <td>0.000028</td>\n",
              "      <td>3735.53</td>\n",
              "      <td>0.000026</td>\n",
              "      <td>90015.0</td>\n",
              "      <td>0.000026</td>\n",
              "      <td>0.000010</td>\n",
              "      <td>173002.0</td>\n",
              "      <td>0.000028</td>\n",
              "      <td>0.000013</td>\n",
              "      <td>4224.0</td>\n",
              "    </tr>\n",
              "    <tr>\n",
              "      <th>2021-02-17 00:00:00+00:00</th>\n",
              "      <td>.STOXX50E</td>\n",
              "      <td>3701.72</td>\n",
              "      <td>-0.004996</td>\n",
              "      <td>0.000020</td>\n",
              "      <td>0.000038</td>\n",
              "      <td>0.000064</td>\n",
              "      <td>0.000072</td>\n",
              "      <td>0.000064</td>\n",
              "      <td>0.000058</td>\n",
              "      <td>0.000067</td>\n",
              "      <td>3720.26</td>\n",
              "      <td>0.000058</td>\n",
              "      <td>90015.0</td>\n",
              "      <td>0.000072</td>\n",
              "      <td>0.000022</td>\n",
              "      <td>173002.0</td>\n",
              "      <td>0.000067</td>\n",
              "      <td>0.000038</td>\n",
              "      <td>4219.0</td>\n",
              "    </tr>\n",
              "  </tbody>\n",
              "</table>\n",
              "<p>149615 rows × 19 columns</p>\n",
              "</div>"
            ],
            "text/plain": [
              "                              Symbol  close_price  ...    rsv_ss    nobs\n",
              "2000-01-03 00:00:00+00:00       .AEX       675.44  ...  0.000046  1795.0\n",
              "2000-01-04 00:00:00+00:00       .AEX       642.25  ...  0.000147  1785.0\n",
              "2000-01-05 00:00:00+00:00       .AEX       632.31  ...  0.000328  1801.0\n",
              "2000-01-06 00:00:00+00:00       .AEX       624.21  ...  0.000116  1799.0\n",
              "2000-01-07 00:00:00+00:00       .AEX       644.86  ...  0.000048  1798.0\n",
              "...                              ...          ...  ...       ...     ...\n",
              "2021-02-11 00:00:00+00:00  .STOXX50E      3668.43  ...  0.000014  4255.0\n",
              "2021-02-12 00:00:00+00:00  .STOXX50E      3695.01  ...  0.000014  4157.0\n",
              "2021-02-15 00:00:00+00:00  .STOXX50E      3738.69  ...  0.000006  4236.0\n",
              "2021-02-16 00:00:00+00:00  .STOXX50E      3725.56  ...  0.000013  4224.0\n",
              "2021-02-17 00:00:00+00:00  .STOXX50E      3701.72  ...  0.000038  4219.0\n",
              "\n",
              "[149615 rows x 19 columns]"
            ]
          },
          "metadata": {
            "tags": []
          },
          "execution_count": 3
        }
      ]
    },
    {
      "cell_type": "markdown",
      "metadata": {
        "id": "nmvRa6_nJg2K"
      },
      "source": [
        "- Avec les différentes valeurs :\n",
        "  - bv :\tBipower Variation (5-min)\n",
        "  - bv_ss :\tBipower Variation (5-min Sub-sampled)\n",
        "  - close_price :\tClosing (Last) Price\n",
        "  - close_time :\tClosing Time\n",
        "  - medrv\t: Median Realized Variance (5-min)\n",
        "  - nobs\t: Number of Observations\n",
        "  - open_price : Opening (First) Price\n",
        "  - open_time\t: Opening Time\n",
        "  - open_to_close\t: Open to Close Return\n",
        "  - rk_parzen\t: Realized Kernel Variance (Non-Flat Parzen)\n",
        "  - rk_th2 : Realized Kernel Variance (Tukey-Hanning(2))\n",
        "  - rk_twoscale\t: Realized Kernel Variance (Two-Scale/Bartlett)\n",
        "  - rsv\t: Realized Semi-variance (5-min)\n",
        "  - rsv_ss\t: Realized Semi-variance (5-min Sub-sampled)\n",
        "  - rv10 : Realized Variance (10-min)\n",
        "  - rv10_ss\t: Realized Variance (10-min Sub-sampled)\n",
        "  - rv5\t: Realized Variance (5-min)\n",
        "  - rv5_ss : Realized Variance (5-min Sub-sampled)\n",
        "\n",
        "Avec $$Semivariance = \\frac{1}{n}∑\\limits^{n}_{r_t < Average}(Average - r_t)^{2}$$"
      ]
    },
    {
      "cell_type": "code",
      "metadata": {
        "colab": {
          "base_uri": "https://localhost:8080/",
          "height": 517
        },
        "id": "fWCsAqjcF_6Y",
        "outputId": "c0ba5810-3dc0-4b4d-d1ed-713342e96372"
      },
      "source": [
        "spx = data[data[\"Symbol\"] == \".SPX\"]\n",
        "spx[\"rk_twoscale\"].plot(color='red', grid=True, title='SPX realized variance',\n",
        "         figsize=(16, 9), ylim=(0,0.004));"
      ],
      "execution_count": 4,
      "outputs": [
        {
          "output_type": "display_data",
          "data": {
            "image/png": "[encoded data removed]",
            "text/plain": [
              "<Figure size 1152x648 with 1 Axes>"
            ]
          },
          "metadata": {
            "tags": [],
            "needs_background": "light"
          }
        }
      ]
    },
    {
      "cell_type": "code",
      "metadata": {
        "id": "Wchwrbp-LjWs"
      },
      "source": [
        "%%capture\n",
        "spx['sqrt']= np.sqrt(spx['rk_twoscale'])\n",
        "spx['log_sqrt'] = np.log(spx['sqrt'])\n",
        "\n",
        "def del_Raw(q, x): \n",
        "    \"\"\" Scaling of m(q,Delta) avec lag Delta\"\"\"\n",
        "    return [np.mean(np.abs(spx['log_sqrt'] - spx['log_sqrt'].shift(lag)) ** q) for lag in x]"
      ],
      "execution_count": 5,
      "outputs": []
    },
    {
      "cell_type": "code",
      "metadata": {
        "colab": {
          "base_uri": "https://localhost:8080/",
          "height": 521
        },
        "id": "l0k23qD8LwtP",
        "outputId": "657388ef-e3c6-464b-f25f-e3c75b356dc5"
      },
      "source": [
        "plt.figure(figsize=(8, 8))\n",
        "plt.xlabel('$log(\\Delta)$')\n",
        "plt.ylabel('$log\\  m(q.\\Delta)$')\n",
        "plt.ylim=(-3, -.5)\n",
        "\n",
        "zeta_q = list()\n",
        "qVec = np.array([.5, 1, 1.5, 2, 3])\n",
        "x = np.arange(1, 100)\n",
        "for q in qVec:\n",
        "    plt.plot(np.log(x), np.log(del_Raw(q, x)), 'o') \n",
        "    model = np.polyfit(np.log(x), np.log(del_Raw(q, x)), 1)\n",
        "    plt.plot(np.log(x), np.log(x) * model[0] + model[1])\n",
        "    zeta_q.append(model[0])\n",
        "    \n",
        "print(zeta_q)"
      ],
      "execution_count": 6,
      "outputs": [
        {
          "output_type": "stream",
          "text": [
            "[0.08495158289730485, 0.16930164043370957, 0.25320521325596695, 0.3368248767606616, 0.5034614329671553]\n"
          ],
          "name": "stdout"
        },
        {
          "output_type": "display_data",
          "data": {
            "image/png": "[encoded data removed]",
            "text/plain": [
              "<Figure size 576x576 with 1 Axes>"
            ]
          },
          "metadata": {
            "tags": [],
            "needs_background": "light"
          }
        }
      ]
    },
    {
      "cell_type": "code",
      "metadata": {
        "colab": {
          "base_uri": "https://localhost:8080/",
          "height": 517
        },
        "id": "5T4cdI5VL9YY",
        "outputId": "4a510cfd-b62a-4fda-ef24-218d0c28e465"
      },
      "source": [
        "plt.figure(figsize=(8,8))\n",
        "plt.xlabel('q')\n",
        "plt.ylabel('$\\zeta_{q}$')\n",
        "plt.plot(qVec, zeta_q, 'or')\n",
        "\n",
        "line = np.polyfit(qVec[:4], zeta_q[:4],1)\n",
        "plt.plot(qVec, line[0] * qVec + line[1])\n",
        "h_est= line[0]\n",
        "print(h_est)"
      ],
      "execution_count": 7,
      "outputs": [
        {
          "output_type": "stream",
          "text": [
            "0.1679046908824655\n"
          ],
          "name": "stdout"
        },
        {
          "output_type": "display_data",
          "data": {
            "image/png": "[encoded data removed]",
            "text/plain": [
              "<Figure size 576x576 with 1 Axes>"
            ]
          },
          "metadata": {
            "tags": [],
            "needs_background": "light"
          }
        }
      ]
    },
    {
      "cell_type": "code",
      "metadata": {
        "id": "GqF4jd-OMpl5"
      },
      "source": [
        "# Répéter l'analyse ci-dessus pour les différents indices du dataset\n",
        "def dlsig2(sig, x, pr=False):\n",
        "    if pr:\n",
        "        a = np.array([(sig-sig.shift(lag)).dropna() for lag in x])\n",
        "        a = a ** 2\n",
        "        print(a.info())\n",
        "    return [np.mean((sig-sig.shift(lag)).dropna() ** 2) for lag in x]"
      ],
      "execution_count": 8,
      "outputs": []
    },
    {
      "cell_type": "code",
      "metadata": {
        "id": "bAYcuPNLNVlu"
      },
      "source": [
        "h = list() # coeffs hurst\n",
        "nu = list() # estimation de la variance\n",
        "\n",
        "for mysymbol in data[\"Symbol\"].unique():\n",
        "    sig = data[data[\"Symbol\"]==mysymbol][\"rk_twoscale\"]\n",
        "    sig = np.log(np.sqrt(sig))\n",
        "    sig = sig.dropna()\n",
        "    model = np.polyfit(np.log(x), np.log(dlsig2(sig, x)), 1)\n",
        "    nu.append(np.sqrt(np.exp(model[1])))\n",
        "    h.append(model[0]/2.)\n",
        "    \n",
        "OxfordH = pd.DataFrame({'Symbol':data[\"Symbol\"].unique(), 'h_est': h, 'nu_est': nu})"
      ],
      "execution_count": null,
      "outputs": []
    },
    {
      "cell_type": "markdown",
      "metadata": {
        "id": "lEdvz4ehOAVO"
      },
      "source": [
        "### Variances forecasts"
      ]
    },
    {
      "cell_type": "code",
      "metadata": {
        "id": "9eE0E8U8OB7F"
      },
      "source": [
        "import pdb\n",
        "\n",
        "def c_tilde(h):\n",
        "    return scsp.gamma(3. / 2. - h) / scsp.gamma(h + 1. / 2.) * scsp.gamma(2. - 2. * h)\n",
        "\n",
        "def forecast_XTS(rvdata, h, date, nLags, delta, nu):\n",
        "    i = np.arange(nLags)\n",
        "    cf = 1./((i + 1. / 2.) ** (h + 1. / 2.) * (i + 1. / 2. + delta))\n",
        "    ldata = pd.DataFrame(rvdata.truncate(after=date))\n",
        "\n",
        "    l = len(ldata)\n",
        "    ldata = np.log(ldata[l - nLags:])\n",
        "\n",
        "    ldata['cf'] = np.fliplr([cf])[0]\n",
        "    # print ldata\n",
        "    ldata = ldata.dropna()\n",
        "    fcst = (ldata.iloc[:, 0] * ldata['cf']).sum() / sum(ldata['cf'])    \n",
        "    return math.exp(fcst + 2 * nu ** 2 * c_tilde(h) * delta ** (2 * h))"
      ],
      "execution_count": 11,
      "outputs": []
    },
    {
      "cell_type": "code",
      "metadata": {
        "id": "MMBXc1hYPo2W"
      },
      "source": [
        "mysymbol=\".SPX\"\n",
        "\n",
        "rvdata=data[data[\"Symbol\"]==mysymbol][\"rk_twoscale\"]"
      ],
      "execution_count": 12,
      "outputs": []
    },
    {
      "cell_type": "code",
      "metadata": {
        "id": "dsWQFCXuQI0e"
      },
      "source": [
        "fit_symbol = OxfordH[OxfordH[\"Symbol\"]==mysymbol]\n",
        "nu  = fit_symbol['nu_est'] # Vol of vol estimate for SPX\n",
        "h = fit_symbol[\"h_est\"].values\n",
        "n = len(rvdata)\n",
        "delta = 1\n",
        "nLags = 5\n",
        "dates = rvdata.iloc[nLags:n-delta].index"
      ],
      "execution_count": 13,
      "outputs": []
    },
    {
      "cell_type": "code",
      "metadata": {
        "id": "ZX76RPnURUHI"
      },
      "source": [
        "delta = 1\n",
        "nLags = 500\n",
        "dates = rvdata.iloc[nLags:n-delta].index\n",
        "rv_predict = [forecast_XTS(rvdata, h=h, date=d, nLags=nLags,\n",
        "                           delta=delta, nu=nu) for d in dates]\n",
        "rv_actual = rvdata.iloc[nLags+delta:n].values"
      ],
      "execution_count": 14,
      "outputs": []
    },
    {
      "cell_type": "code",
      "metadata": {
        "colab": {
          "base_uri": "https://localhost:8080/",
          "height": 391
        },
        "id": "s21t6XmOd-Ib",
        "outputId": "6d163a78-6a72-411c-8d94-d0e8dc38d8f0"
      },
      "source": [
        "fig, ax = plt.subplots(1,2,figsize=(20,6))\n",
        "ax[0].set(xlabel=\"Points\", ylabel=\"Annualized vol\")\n",
        "ax[0].set(xlabel=\"Realized\", ylabel=\"Predicted\")\n",
        "ax[0].plot(vol_actual, \"b\", label=\"Realized\")\n",
        "ax[0].plot(vol_predict, \"r\", label=\"Predicted\");\n",
        "ax[1].plot(vol_predict, vol_actual, 'bo');\n",
        "ax[0].legend();"
      ],
      "execution_count": 164,
      "outputs": [
        {
          "output_type": "display_data",
          "data": {
            "image/png": "[encoded data removed]",
            "text/plain": [
              "<Figure size 1440x432 with 2 Axes>"
            ]
          },
          "metadata": {
            "tags": [],
            "needs_background": "light"
          }
        }
      ]
    },
    {
      "cell_type": "markdown",
      "metadata": {
        "id": "9t1o5TbBLNJA"
      },
      "source": [
        "## On stocke les prévisions de vol dans un fichier pour une utilisation ultérieure\n",
        "\n",
        "- Il est important de noter que ce n'est pas la vol annualisée qui est stockée mais la variance predite \"rv_predict\""
      ]
    },
    {
      "cell_type": "code",
      "metadata": {
        "id": "0K-cP0IGRrDn"
      },
      "source": [
        "pd.DataFrame(rv_predict).to_csv(\"/content/drive/MyDrive/Colab Notebooks Centrale/Deep Learning in Finance/TP5_PredVol/Predicted_vol_1.1.csv\", index=False, header=False)"
      ],
      "execution_count": null,
      "outputs": []
    },
    {
      "cell_type": "markdown",
      "metadata": {
        "id": "BpLQCMObDoyu"
      },
      "source": [
        "# 2 - Prévision par Deep Learning"
      ]
    },
    {
      "cell_type": "code",
      "metadata": {
        "id": "gm-Lcuj0S4Uq"
      },
      "source": [
        "from keras.models import Sequential\n",
        "from keras.layers import Dense\n",
        "from keras.layers import Activation\n",
        "from keras.layers import Input\n",
        "from keras.models import Model\n",
        "from keras.optimizers import Adam\n",
        "\n",
        "# gpu_devices = tf.config.experimental.list_physical_devices('GPU')  # allow memory use to grow\n",
        "# for device in gpu_devices:\n",
        "#     tf.config.experimental.set_memory_growth(device, True)"
      ],
      "execution_count": 20,
      "outputs": []
    },
    {
      "cell_type": "code",
      "metadata": {
        "id": "yug8qAJqS7hn"
      },
      "source": [
        "from keras.models import Sequential,Model\n",
        "from keras.layers import Input, Dense, LSTM, GRU, Activation, Reshape, Flatten, Dropout, Lambda, RepeatVector\n",
        "from keras.layers import Add,Multiply\n",
        "from keras.layers import BatchNormalization\n",
        "from keras.layers import UpSampling1D, Conv1D\n",
        "from keras.layers import LeakyReLU"
      ],
      "execution_count": 21,
      "outputs": []
    },
    {
      "cell_type": "code",
      "metadata": {
        "colab": {
          "base_uri": "https://localhost:8080/",
          "height": 609
        },
        "id": "TZCUfXBx1qPY",
        "outputId": "97e0e1bf-2415-49e6-84a8-a4060ef113f6"
      },
      "source": [
        "spx"
      ],
      "execution_count": 22,
      "outputs": [
        {
          "output_type": "execute_result",
          "data": {
            "text/html": [
              "<div>\n",
              "<style scoped>\n",
              "    .dataframe tbody tr th:only-of-type {\n",
              "        vertical-align: middle;\n",
              "    }\n",
              "\n",
              "    .dataframe tbody tr th {\n",
              "        vertical-align: top;\n",
              "    }\n",
              "\n",
              "    .dataframe thead th {\n",
              "        text-align: right;\n",
              "    }\n",
              "</style>\n",
              "<table border=\"1\" class=\"dataframe\">\n",
              "  <thead>\n",
              "    <tr style=\"text-align: right;\">\n",
              "      <th></th>\n",
              "      <th>Symbol</th>\n",
              "      <th>close_price</th>\n",
              "      <th>open_to_close</th>\n",
              "      <th>medrv</th>\n",
              "      <th>rsv</th>\n",
              "      <th>rv5</th>\n",
              "      <th>rv10_ss</th>\n",
              "      <th>rv5_ss</th>\n",
              "      <th>bv_ss</th>\n",
              "      <th>rk_twoscale</th>\n",
              "      <th>open_price</th>\n",
              "      <th>bv</th>\n",
              "      <th>open_time</th>\n",
              "      <th>rv10</th>\n",
              "      <th>rk_parzen</th>\n",
              "      <th>close_time</th>\n",
              "      <th>rk_th2</th>\n",
              "      <th>rsv_ss</th>\n",
              "      <th>nobs</th>\n",
              "      <th>sqrt</th>\n",
              "      <th>log_sqrt</th>\n",
              "    </tr>\n",
              "  </thead>\n",
              "  <tbody>\n",
              "    <tr>\n",
              "      <th>2000-01-03 00:00:00+00:00</th>\n",
              "      <td>.SPX</td>\n",
              "      <td>1454.24</td>\n",
              "      <td>-0.011602</td>\n",
              "      <td>0.000058</td>\n",
              "      <td>0.000096</td>\n",
              "      <td>0.000141</td>\n",
              "      <td>0.000164</td>\n",
              "      <td>0.000141</td>\n",
              "      <td>0.000141</td>\n",
              "      <td>0.000122</td>\n",
              "      <td>1471.21</td>\n",
              "      <td>0.000141</td>\n",
              "      <td>83004.0</td>\n",
              "      <td>0.000164</td>\n",
              "      <td>0.000340</td>\n",
              "      <td>145959.0</td>\n",
              "      <td>0.000130</td>\n",
              "      <td>0.000096</td>\n",
              "      <td>1554.0</td>\n",
              "      <td>0.011033</td>\n",
              "      <td>-4.506843</td>\n",
              "    </tr>\n",
              "    <tr>\n",
              "      <th>2000-01-04 00:00:00+00:00</th>\n",
              "      <td>.SPX</td>\n",
              "      <td>1399.02</td>\n",
              "      <td>-0.035102</td>\n",
              "      <td>0.000067</td>\n",
              "      <td>0.000180</td>\n",
              "      <td>0.000224</td>\n",
              "      <td>0.000295</td>\n",
              "      <td>0.000224</td>\n",
              "      <td>0.000173</td>\n",
              "      <td>0.000142</td>\n",
              "      <td>1449.00</td>\n",
              "      <td>0.000173</td>\n",
              "      <td>83009.0</td>\n",
              "      <td>0.000295</td>\n",
              "      <td>0.000215</td>\n",
              "      <td>150000.0</td>\n",
              "      <td>0.000162</td>\n",
              "      <td>0.000180</td>\n",
              "      <td>1564.0</td>\n",
              "      <td>0.011930</td>\n",
              "      <td>-4.428714</td>\n",
              "    </tr>\n",
              "    <tr>\n",
              "      <th>2000-01-05 00:00:00+00:00</th>\n",
              "      <td>.SPX</td>\n",
              "      <td>1402.09</td>\n",
              "      <td>0.004625</td>\n",
              "      <td>0.000142</td>\n",
              "      <td>0.000131</td>\n",
              "      <td>0.000314</td>\n",
              "      <td>0.000267</td>\n",
              "      <td>0.000314</td>\n",
              "      <td>0.000303</td>\n",
              "      <td>0.000219</td>\n",
              "      <td>1395.62</td>\n",
              "      <td>0.000303</td>\n",
              "      <td>83012.0</td>\n",
              "      <td>0.000267</td>\n",
              "      <td>0.000163</td>\n",
              "      <td>150003.0</td>\n",
              "      <td>0.000240</td>\n",
              "      <td>0.000131</td>\n",
              "      <td>1552.0</td>\n",
              "      <td>0.014800</td>\n",
              "      <td>-4.213107</td>\n",
              "    </tr>\n",
              "    <tr>\n",
              "      <th>2000-01-06 00:00:00+00:00</th>\n",
              "      <td>.SPX</td>\n",
              "      <td>1403.06</td>\n",
              "      <td>0.002991</td>\n",
              "      <td>0.000070</td>\n",
              "      <td>0.000056</td>\n",
              "      <td>0.000131</td>\n",
              "      <td>0.000115</td>\n",
              "      <td>0.000131</td>\n",
              "      <td>0.000128</td>\n",
              "      <td>0.000127</td>\n",
              "      <td>1398.87</td>\n",
              "      <td>0.000128</td>\n",
              "      <td>83005.0</td>\n",
              "      <td>0.000115</td>\n",
              "      <td>0.000067</td>\n",
              "      <td>145954.0</td>\n",
              "      <td>0.000132</td>\n",
              "      <td>0.000056</td>\n",
              "      <td>1561.0</td>\n",
              "      <td>0.011251</td>\n",
              "      <td>-4.487290</td>\n",
              "    </tr>\n",
              "    <tr>\n",
              "      <th>2000-01-07 00:00:00+00:00</th>\n",
              "      <td>.SPX</td>\n",
              "      <td>1440.84</td>\n",
              "      <td>0.026293</td>\n",
              "      <td>0.000049</td>\n",
              "      <td>0.000023</td>\n",
              "      <td>0.000094</td>\n",
              "      <td>0.000121</td>\n",
              "      <td>0.000094</td>\n",
              "      <td>0.000079</td>\n",
              "      <td>0.000091</td>\n",
              "      <td>1403.45</td>\n",
              "      <td>0.000079</td>\n",
              "      <td>83000.0</td>\n",
              "      <td>0.000121</td>\n",
              "      <td>0.000215</td>\n",
              "      <td>150000.0</td>\n",
              "      <td>0.000095</td>\n",
              "      <td>0.000023</td>\n",
              "      <td>1540.0</td>\n",
              "      <td>0.009535</td>\n",
              "      <td>-4.652832</td>\n",
              "    </tr>\n",
              "    <tr>\n",
              "      <th>...</th>\n",
              "      <td>...</td>\n",
              "      <td>...</td>\n",
              "      <td>...</td>\n",
              "      <td>...</td>\n",
              "      <td>...</td>\n",
              "      <td>...</td>\n",
              "      <td>...</td>\n",
              "      <td>...</td>\n",
              "      <td>...</td>\n",
              "      <td>...</td>\n",
              "      <td>...</td>\n",
              "      <td>...</td>\n",
              "      <td>...</td>\n",
              "      <td>...</td>\n",
              "      <td>...</td>\n",
              "      <td>...</td>\n",
              "      <td>...</td>\n",
              "      <td>...</td>\n",
              "      <td>...</td>\n",
              "      <td>...</td>\n",
              "      <td>...</td>\n",
              "    </tr>\n",
              "    <tr>\n",
              "      <th>2021-02-10 00:00:00+00:00</th>\n",
              "      <td>.SPX</td>\n",
              "      <td>3910.02</td>\n",
              "      <td>-0.002748</td>\n",
              "      <td>0.000018</td>\n",
              "      <td>0.000050</td>\n",
              "      <td>0.000078</td>\n",
              "      <td>0.000054</td>\n",
              "      <td>0.000078</td>\n",
              "      <td>0.000077</td>\n",
              "      <td>0.000055</td>\n",
              "      <td>3920.78</td>\n",
              "      <td>0.000077</td>\n",
              "      <td>83001.0</td>\n",
              "      <td>0.000054</td>\n",
              "      <td>0.000065</td>\n",
              "      <td>150001.0</td>\n",
              "      <td>0.000053</td>\n",
              "      <td>0.000050</td>\n",
              "      <td>23401.0</td>\n",
              "      <td>0.007407</td>\n",
              "      <td>-4.905287</td>\n",
              "    </tr>\n",
              "    <tr>\n",
              "      <th>2021-02-11 00:00:00+00:00</th>\n",
              "      <td>.SPX</td>\n",
              "      <td>3916.28</td>\n",
              "      <td>-0.000031</td>\n",
              "      <td>0.000015</td>\n",
              "      <td>0.000026</td>\n",
              "      <td>0.000043</td>\n",
              "      <td>0.000042</td>\n",
              "      <td>0.000043</td>\n",
              "      <td>0.000033</td>\n",
              "      <td>0.000032</td>\n",
              "      <td>3916.40</td>\n",
              "      <td>0.000033</td>\n",
              "      <td>83001.0</td>\n",
              "      <td>0.000042</td>\n",
              "      <td>0.000033</td>\n",
              "      <td>150001.0</td>\n",
              "      <td>0.000031</td>\n",
              "      <td>0.000026</td>\n",
              "      <td>23401.0</td>\n",
              "      <td>0.005645</td>\n",
              "      <td>-5.177072</td>\n",
              "    </tr>\n",
              "    <tr>\n",
              "      <th>2021-02-12 00:00:00+00:00</th>\n",
              "      <td>.SPX</td>\n",
              "      <td>3935.07</td>\n",
              "      <td>0.005969</td>\n",
              "      <td>0.000007</td>\n",
              "      <td>0.000004</td>\n",
              "      <td>0.000015</td>\n",
              "      <td>0.000012</td>\n",
              "      <td>0.000015</td>\n",
              "      <td>0.000014</td>\n",
              "      <td>0.000013</td>\n",
              "      <td>3911.65</td>\n",
              "      <td>0.000014</td>\n",
              "      <td>83001.0</td>\n",
              "      <td>0.000012</td>\n",
              "      <td>0.000017</td>\n",
              "      <td>150001.0</td>\n",
              "      <td>0.000013</td>\n",
              "      <td>0.000004</td>\n",
              "      <td>23401.0</td>\n",
              "      <td>0.003573</td>\n",
              "      <td>-5.634475</td>\n",
              "    </tr>\n",
              "    <tr>\n",
              "      <th>2021-02-16 00:00:00+00:00</th>\n",
              "      <td>.SPX</td>\n",
              "      <td>3932.25</td>\n",
              "      <td>-0.001870</td>\n",
              "      <td>0.000016</td>\n",
              "      <td>0.000023</td>\n",
              "      <td>0.000042</td>\n",
              "      <td>0.000030</td>\n",
              "      <td>0.000042</td>\n",
              "      <td>0.000041</td>\n",
              "      <td>0.000032</td>\n",
              "      <td>3939.61</td>\n",
              "      <td>0.000041</td>\n",
              "      <td>83001.0</td>\n",
              "      <td>0.000030</td>\n",
              "      <td>0.000018</td>\n",
              "      <td>150000.0</td>\n",
              "      <td>0.000032</td>\n",
              "      <td>0.000023</td>\n",
              "      <td>23400.0</td>\n",
              "      <td>0.005690</td>\n",
              "      <td>-5.168998</td>\n",
              "    </tr>\n",
              "    <tr>\n",
              "      <th>2021-02-17 00:00:00+00:00</th>\n",
              "      <td>.SPX</td>\n",
              "      <td>3931.41</td>\n",
              "      <td>0.003289</td>\n",
              "      <td>0.000017</td>\n",
              "      <td>0.000022</td>\n",
              "      <td>0.000040</td>\n",
              "      <td>0.000045</td>\n",
              "      <td>0.000040</td>\n",
              "      <td>0.000034</td>\n",
              "      <td>0.000047</td>\n",
              "      <td>3918.50</td>\n",
              "      <td>0.000034</td>\n",
              "      <td>83001.0</td>\n",
              "      <td>0.000045</td>\n",
              "      <td>0.000032</td>\n",
              "      <td>150000.0</td>\n",
              "      <td>0.000047</td>\n",
              "      <td>0.000022</td>\n",
              "      <td>23400.0</td>\n",
              "      <td>0.006843</td>\n",
              "      <td>-4.984554</td>\n",
              "    </tr>\n",
              "  </tbody>\n",
              "</table>\n",
              "<p>5295 rows × 21 columns</p>\n",
              "</div>"
            ],
            "text/plain": [
              "                          Symbol  close_price  ...      sqrt  log_sqrt\n",
              "2000-01-03 00:00:00+00:00   .SPX      1454.24  ...  0.011033 -4.506843\n",
              "2000-01-04 00:00:00+00:00   .SPX      1399.02  ...  0.011930 -4.428714\n",
              "2000-01-05 00:00:00+00:00   .SPX      1402.09  ...  0.014800 -4.213107\n",
              "2000-01-06 00:00:00+00:00   .SPX      1403.06  ...  0.011251 -4.487290\n",
              "2000-01-07 00:00:00+00:00   .SPX      1440.84  ...  0.009535 -4.652832\n",
              "...                          ...          ...  ...       ...       ...\n",
              "2021-02-10 00:00:00+00:00   .SPX      3910.02  ...  0.007407 -4.905287\n",
              "2021-02-11 00:00:00+00:00   .SPX      3916.28  ...  0.005645 -5.177072\n",
              "2021-02-12 00:00:00+00:00   .SPX      3935.07  ...  0.003573 -5.634475\n",
              "2021-02-16 00:00:00+00:00   .SPX      3932.25  ...  0.005690 -5.168998\n",
              "2021-02-17 00:00:00+00:00   .SPX      3931.41  ...  0.006843 -4.984554\n",
              "\n",
              "[5295 rows x 21 columns]"
            ]
          },
          "metadata": {
            "tags": []
          },
          "execution_count": 22
        }
      ]
    },
    {
      "cell_type": "markdown",
      "metadata": {
        "id": "5S1ETI0qr3Lz"
      },
      "source": [
        "- Fonctions permettant de transformer nos features en matrice 3D d'input du LSTM."
      ]
    },
    {
      "cell_type": "code",
      "metadata": {
        "id": "It9U8ydmSujz"
      },
      "source": [
        "#split a univariate sequence into samples\n",
        "def split_sequence_univariate(sequence, n_steps):\n",
        "    \"\"\" Pour transformer un array 1D en 3D\"\"\"\n",
        "    X, y = list(), list()\n",
        "    for i in range(len(sequence)):\n",
        "        # find the end of this pattern\n",
        "        end_ix = i + n_steps\n",
        "        # check if we are beyond the sequence\n",
        "        if end_ix > len(sequence)-1:\n",
        "            break\n",
        "            \n",
        "        # gather input and output parts of the pattern\n",
        "        seq_x, seq_y = sequence[i:end_ix], sequence[end_ix]\n",
        "        X.append(seq_x)\n",
        "        y.append(seq_y)\n",
        "    return np.array(X), np.array(y)\n",
        "\n",
        "\n",
        "# def split_sequences_multivariate(sequences, n_steps):\n",
        "#     \"\"\" Pour transformer un array 2D en 3D\"\"\"\n",
        "#     X, y = list(), list()\n",
        "#     for i in range(len(sequences)):\n",
        "# # find the end of this pattern\n",
        "#         end_ix = i + n_steps\n",
        "# # check if we are beyond the dataset\n",
        "#         if end_ix > len(sequences)-1:\n",
        "#             break\n",
        "# # gather input and output parts of the pattern\n",
        "#         seq_x, seq_y = sequences[i:end_ix, :], sequences[end_ix, -1]\n",
        "#         X.append(seq_x)\n",
        "#         y.append(seq_y)\n",
        "#     return np.array(X), np.array(y)"
      ],
      "execution_count": 23,
      "outputs": []
    },
    {
      "cell_type": "markdown",
      "metadata": {
        "id": "uiBwRbk6D1zn"
      },
      "source": [
        "## 1) Matrice de prédicteurs sans prévision de vol issue de modèles\n",
        "\n",
        "- Nous allons estimer le log de la variance, comme dans la partie précédente. "
      ]
    },
    {
      "cell_type": "code",
      "metadata": {
        "id": "L5NbaS5eTA6K"
      },
      "source": [
        "X_full_log = np.log(spx[[\"rk_twoscale\"]].values)  "
      ],
      "execution_count": 121,
      "outputs": []
    },
    {
      "cell_type": "markdown",
      "metadata": {
        "id": "AHWaZVgjl_l9"
      },
      "source": [
        "- On utilise la fonction permettant d'avoir notre dataset en format 3D d'input pour le LSTM."
      ]
    },
    {
      "cell_type": "code",
      "metadata": {
        "colab": {
          "base_uri": "https://localhost:8080/",
          "height": 439
        },
        "id": "WPTktP2DTTdt",
        "outputId": "bc5cd83f-1c11-442a-ccec-e6307a788536"
      },
      "source": [
        "N_I = 100 # Longueur de la séquence d'input du LSTM\n",
        "X_sample,y_sample=split_sequence_univariate(X_full_log, N_I) \n",
        "pd.DataFrame(X_sample.reshape(X_sample.shape[0], X_sample.shape[1]))"
      ],
      "execution_count": 122,
      "outputs": [
        {
          "output_type": "execute_result",
          "data": {
            "text/html": [
              "<div>\n",
              "<style scoped>\n",
              "    .dataframe tbody tr th:only-of-type {\n",
              "        vertical-align: middle;\n",
              "    }\n",
              "\n",
              "    .dataframe tbody tr th {\n",
              "        vertical-align: top;\n",
              "    }\n",
              "\n",
              "    .dataframe thead th {\n",
              "        text-align: right;\n",
              "    }\n",
              "</style>\n",
              "<table border=\"1\" class=\"dataframe\">\n",
              "  <thead>\n",
              "    <tr style=\"text-align: right;\">\n",
              "      <th></th>\n",
              "      <th>0</th>\n",
              "      <th>1</th>\n",
              "      <th>2</th>\n",
              "      <th>3</th>\n",
              "      <th>4</th>\n",
              "      <th>5</th>\n",
              "      <th>6</th>\n",
              "      <th>7</th>\n",
              "      <th>8</th>\n",
              "      <th>9</th>\n",
              "      <th>10</th>\n",
              "      <th>11</th>\n",
              "      <th>12</th>\n",
              "      <th>13</th>\n",
              "      <th>14</th>\n",
              "      <th>15</th>\n",
              "      <th>16</th>\n",
              "      <th>17</th>\n",
              "      <th>18</th>\n",
              "      <th>19</th>\n",
              "      <th>20</th>\n",
              "      <th>21</th>\n",
              "      <th>22</th>\n",
              "      <th>23</th>\n",
              "      <th>24</th>\n",
              "      <th>25</th>\n",
              "      <th>26</th>\n",
              "      <th>27</th>\n",
              "      <th>28</th>\n",
              "      <th>29</th>\n",
              "      <th>30</th>\n",
              "      <th>31</th>\n",
              "      <th>32</th>\n",
              "      <th>33</th>\n",
              "      <th>34</th>\n",
              "      <th>35</th>\n",
              "      <th>36</th>\n",
              "      <th>37</th>\n",
              "      <th>38</th>\n",
              "      <th>39</th>\n",
              "      <th>...</th>\n",
              "      <th>60</th>\n",
              "      <th>61</th>\n",
              "      <th>62</th>\n",
              "      <th>63</th>\n",
              "      <th>64</th>\n",
              "      <th>65</th>\n",
              "      <th>66</th>\n",
              "      <th>67</th>\n",
              "      <th>68</th>\n",
              "      <th>69</th>\n",
              "      <th>70</th>\n",
              "      <th>71</th>\n",
              "      <th>72</th>\n",
              "      <th>73</th>\n",
              "      <th>74</th>\n",
              "      <th>75</th>\n",
              "      <th>76</th>\n",
              "      <th>77</th>\n",
              "      <th>78</th>\n",
              "      <th>79</th>\n",
              "      <th>80</th>\n",
              "      <th>81</th>\n",
              "      <th>82</th>\n",
              "      <th>83</th>\n",
              "      <th>84</th>\n",
              "      <th>85</th>\n",
              "      <th>86</th>\n",
              "      <th>87</th>\n",
              "      <th>88</th>\n",
              "      <th>89</th>\n",
              "      <th>90</th>\n",
              "      <th>91</th>\n",
              "      <th>92</th>\n",
              "      <th>93</th>\n",
              "      <th>94</th>\n",
              "      <th>95</th>\n",
              "      <th>96</th>\n",
              "      <th>97</th>\n",
              "      <th>98</th>\n",
              "      <th>99</th>\n",
              "    </tr>\n",
              "  </thead>\n",
              "  <tbody>\n",
              "    <tr>\n",
              "      <th>0</th>\n",
              "      <td>-9.013685</td>\n",
              "      <td>-8.857427</td>\n",
              "      <td>-8.426213</td>\n",
              "      <td>-8.974581</td>\n",
              "      <td>-9.305664</td>\n",
              "      <td>-9.155427</td>\n",
              "      <td>-9.535343</td>\n",
              "      <td>-9.109009</td>\n",
              "      <td>-9.358711</td>\n",
              "      <td>-9.422623</td>\n",
              "      <td>-9.537633</td>\n",
              "      <td>-9.904076</td>\n",
              "      <td>-9.147005</td>\n",
              "      <td>-9.904493</td>\n",
              "      <td>-8.922844</td>\n",
              "      <td>-8.859772</td>\n",
              "      <td>-9.502663</td>\n",
              "      <td>-8.915450</td>\n",
              "      <td>-8.491714</td>\n",
              "      <td>-8.681621</td>\n",
              "      <td>-9.033426</td>\n",
              "      <td>-8.817958</td>\n",
              "      <td>-8.953030</td>\n",
              "      <td>-9.635946</td>\n",
              "      <td>-9.621037</td>\n",
              "      <td>-9.712135</td>\n",
              "      <td>-9.197438</td>\n",
              "      <td>-9.093327</td>\n",
              "      <td>-9.217012</td>\n",
              "      <td>-9.303124</td>\n",
              "      <td>-9.132378</td>\n",
              "      <td>-9.216386</td>\n",
              "      <td>-8.721937</td>\n",
              "      <td>-8.931130</td>\n",
              "      <td>-8.771781</td>\n",
              "      <td>-9.055697</td>\n",
              "      <td>-8.470310</td>\n",
              "      <td>-8.665389</td>\n",
              "      <td>-8.618127</td>\n",
              "      <td>-9.210345</td>\n",
              "      <td>...</td>\n",
              "      <td>-8.454897</td>\n",
              "      <td>-8.541160</td>\n",
              "      <td>-8.376927</td>\n",
              "      <td>-7.295877</td>\n",
              "      <td>-7.725891</td>\n",
              "      <td>-8.622939</td>\n",
              "      <td>-9.203708</td>\n",
              "      <td>-9.024197</td>\n",
              "      <td>-8.374678</td>\n",
              "      <td>-9.011034</td>\n",
              "      <td>-8.145206</td>\n",
              "      <td>-7.306642</td>\n",
              "      <td>-7.334833</td>\n",
              "      <td>-8.223146</td>\n",
              "      <td>-8.534250</td>\n",
              "      <td>-9.282389</td>\n",
              "      <td>-8.036063</td>\n",
              "      <td>-8.908287</td>\n",
              "      <td>-9.008127</td>\n",
              "      <td>-8.175250</td>\n",
              "      <td>-9.142083</td>\n",
              "      <td>-9.049544</td>\n",
              "      <td>-8.943677</td>\n",
              "      <td>-8.651940</td>\n",
              "      <td>-8.845353</td>\n",
              "      <td>-8.985020</td>\n",
              "      <td>-9.046932</td>\n",
              "      <td>-8.860779</td>\n",
              "      <td>-8.404084</td>\n",
              "      <td>-8.985739</td>\n",
              "      <td>-9.412004</td>\n",
              "      <td>-9.362600</td>\n",
              "      <td>-8.518716</td>\n",
              "      <td>-8.951772</td>\n",
              "      <td>-9.656680</td>\n",
              "      <td>-8.999254</td>\n",
              "      <td>-8.194818</td>\n",
              "      <td>-8.555588</td>\n",
              "      <td>-8.130511</td>\n",
              "      <td>-8.649147</td>\n",
              "    </tr>\n",
              "    <tr>\n",
              "      <th>1</th>\n",
              "      <td>-8.857427</td>\n",
              "      <td>-8.426213</td>\n",
              "      <td>-8.974581</td>\n",
              "      <td>-9.305664</td>\n",
              "      <td>-9.155427</td>\n",
              "      <td>-9.535343</td>\n",
              "      <td>-9.109009</td>\n",
              "      <td>-9.358711</td>\n",
              "      <td>-9.422623</td>\n",
              "      <td>-9.537633</td>\n",
              "      <td>-9.904076</td>\n",
              "      <td>-9.147005</td>\n",
              "      <td>-9.904493</td>\n",
              "      <td>-8.922844</td>\n",
              "      <td>-8.859772</td>\n",
              "      <td>-9.502663</td>\n",
              "      <td>-8.915450</td>\n",
              "      <td>-8.491714</td>\n",
              "      <td>-8.681621</td>\n",
              "      <td>-9.033426</td>\n",
              "      <td>-8.817958</td>\n",
              "      <td>-8.953030</td>\n",
              "      <td>-9.635946</td>\n",
              "      <td>-9.621037</td>\n",
              "      <td>-9.712135</td>\n",
              "      <td>-9.197438</td>\n",
              "      <td>-9.093327</td>\n",
              "      <td>-9.217012</td>\n",
              "      <td>-9.303124</td>\n",
              "      <td>-9.132378</td>\n",
              "      <td>-9.216386</td>\n",
              "      <td>-8.721937</td>\n",
              "      <td>-8.931130</td>\n",
              "      <td>-8.771781</td>\n",
              "      <td>-9.055697</td>\n",
              "      <td>-8.470310</td>\n",
              "      <td>-8.665389</td>\n",
              "      <td>-8.618127</td>\n",
              "      <td>-9.210345</td>\n",
              "      <td>-9.190616</td>\n",
              "      <td>...</td>\n",
              "      <td>-8.541160</td>\n",
              "      <td>-8.376927</td>\n",
              "      <td>-7.295877</td>\n",
              "      <td>-7.725891</td>\n",
              "      <td>-8.622939</td>\n",
              "      <td>-9.203708</td>\n",
              "      <td>-9.024197</td>\n",
              "      <td>-8.374678</td>\n",
              "      <td>-9.011034</td>\n",
              "      <td>-8.145206</td>\n",
              "      <td>-7.306642</td>\n",
              "      <td>-7.334833</td>\n",
              "      <td>-8.223146</td>\n",
              "      <td>-8.534250</td>\n",
              "      <td>-9.282389</td>\n",
              "      <td>-8.036063</td>\n",
              "      <td>-8.908287</td>\n",
              "      <td>-9.008127</td>\n",
              "      <td>-8.175250</td>\n",
              "      <td>-9.142083</td>\n",
              "      <td>-9.049544</td>\n",
              "      <td>-8.943677</td>\n",
              "      <td>-8.651940</td>\n",
              "      <td>-8.845353</td>\n",
              "      <td>-8.985020</td>\n",
              "      <td>-9.046932</td>\n",
              "      <td>-8.860779</td>\n",
              "      <td>-8.404084</td>\n",
              "      <td>-8.985739</td>\n",
              "      <td>-9.412004</td>\n",
              "      <td>-9.362600</td>\n",
              "      <td>-8.518716</td>\n",
              "      <td>-8.951772</td>\n",
              "      <td>-9.656680</td>\n",
              "      <td>-8.999254</td>\n",
              "      <td>-8.194818</td>\n",
              "      <td>-8.555588</td>\n",
              "      <td>-8.130511</td>\n",
              "      <td>-8.649147</td>\n",
              "      <td>-8.798241</td>\n",
              "    </tr>\n",
              "    <tr>\n",
              "      <th>2</th>\n",
              "      <td>-8.426213</td>\n",
              "      <td>-8.974581</td>\n",
              "      <td>-9.305664</td>\n",
              "      <td>-9.155427</td>\n",
              "      <td>-9.535343</td>\n",
              "      <td>-9.109009</td>\n",
              "      <td>-9.358711</td>\n",
              "      <td>-9.422623</td>\n",
              "      <td>-9.537633</td>\n",
              "      <td>-9.904076</td>\n",
              "      <td>-9.147005</td>\n",
              "      <td>-9.904493</td>\n",
              "      <td>-8.922844</td>\n",
              "      <td>-8.859772</td>\n",
              "      <td>-9.502663</td>\n",
              "      <td>-8.915450</td>\n",
              "      <td>-8.491714</td>\n",
              "      <td>-8.681621</td>\n",
              "      <td>-9.033426</td>\n",
              "      <td>-8.817958</td>\n",
              "      <td>-8.953030</td>\n",
              "      <td>-9.635946</td>\n",
              "      <td>-9.621037</td>\n",
              "      <td>-9.712135</td>\n",
              "      <td>-9.197438</td>\n",
              "      <td>-9.093327</td>\n",
              "      <td>-9.217012</td>\n",
              "      <td>-9.303124</td>\n",
              "      <td>-9.132378</td>\n",
              "      <td>-9.216386</td>\n",
              "      <td>-8.721937</td>\n",
              "      <td>-8.931130</td>\n",
              "      <td>-8.771781</td>\n",
              "      <td>-9.055697</td>\n",
              "      <td>-8.470310</td>\n",
              "      <td>-8.665389</td>\n",
              "      <td>-8.618127</td>\n",
              "      <td>-9.210345</td>\n",
              "      <td>-9.190616</td>\n",
              "      <td>-9.340817</td>\n",
              "      <td>...</td>\n",
              "      <td>-8.376927</td>\n",
              "      <td>-7.295877</td>\n",
              "      <td>-7.725891</td>\n",
              "      <td>-8.622939</td>\n",
              "      <td>-9.203708</td>\n",
              "      <td>-9.024197</td>\n",
              "      <td>-8.374678</td>\n",
              "      <td>-9.011034</td>\n",
              "      <td>-8.145206</td>\n",
              "      <td>-7.306642</td>\n",
              "      <td>-7.334833</td>\n",
              "      <td>-8.223146</td>\n",
              "      <td>-8.534250</td>\n",
              "      <td>-9.282389</td>\n",
              "      <td>-8.036063</td>\n",
              "      <td>-8.908287</td>\n",
              "      <td>-9.008127</td>\n",
              "      <td>-8.175250</td>\n",
              "      <td>-9.142083</td>\n",
              "      <td>-9.049544</td>\n",
              "      <td>-8.943677</td>\n",
              "      <td>-8.651940</td>\n",
              "      <td>-8.845353</td>\n",
              "      <td>-8.985020</td>\n",
              "      <td>-9.046932</td>\n",
              "      <td>-8.860779</td>\n",
              "      <td>-8.404084</td>\n",
              "      <td>-8.985739</td>\n",
              "      <td>-9.412004</td>\n",
              "      <td>-9.362600</td>\n",
              "      <td>-8.518716</td>\n",
              "      <td>-8.951772</td>\n",
              "      <td>-9.656680</td>\n",
              "      <td>-8.999254</td>\n",
              "      <td>-8.194818</td>\n",
              "      <td>-8.555588</td>\n",
              "      <td>-8.130511</td>\n",
              "      <td>-8.649147</td>\n",
              "      <td>-8.798241</td>\n",
              "      <td>-9.308414</td>\n",
              "    </tr>\n",
              "    <tr>\n",
              "      <th>3</th>\n",
              "      <td>-8.974581</td>\n",
              "      <td>-9.305664</td>\n",
              "      <td>-9.155427</td>\n",
              "      <td>-9.535343</td>\n",
              "      <td>-9.109009</td>\n",
              "      <td>-9.358711</td>\n",
              "      <td>-9.422623</td>\n",
              "      <td>-9.537633</td>\n",
              "      <td>-9.904076</td>\n",
              "      <td>-9.147005</td>\n",
              "      <td>-9.904493</td>\n",
              "      <td>-8.922844</td>\n",
              "      <td>-8.859772</td>\n",
              "      <td>-9.502663</td>\n",
              "      <td>-8.915450</td>\n",
              "      <td>-8.491714</td>\n",
              "      <td>-8.681621</td>\n",
              "      <td>-9.033426</td>\n",
              "      <td>-8.817958</td>\n",
              "      <td>-8.953030</td>\n",
              "      <td>-9.635946</td>\n",
              "      <td>-9.621037</td>\n",
              "      <td>-9.712135</td>\n",
              "      <td>-9.197438</td>\n",
              "      <td>-9.093327</td>\n",
              "      <td>-9.217012</td>\n",
              "      <td>-9.303124</td>\n",
              "      <td>-9.132378</td>\n",
              "      <td>-9.216386</td>\n",
              "      <td>-8.721937</td>\n",
              "      <td>-8.931130</td>\n",
              "      <td>-8.771781</td>\n",
              "      <td>-9.055697</td>\n",
              "      <td>-8.470310</td>\n",
              "      <td>-8.665389</td>\n",
              "      <td>-8.618127</td>\n",
              "      <td>-9.210345</td>\n",
              "      <td>-9.190616</td>\n",
              "      <td>-9.340817</td>\n",
              "      <td>-9.554475</td>\n",
              "      <td>...</td>\n",
              "      <td>-7.295877</td>\n",
              "      <td>-7.725891</td>\n",
              "      <td>-8.622939</td>\n",
              "      <td>-9.203708</td>\n",
              "      <td>-9.024197</td>\n",
              "      <td>-8.374678</td>\n",
              "      <td>-9.011034</td>\n",
              "      <td>-8.145206</td>\n",
              "      <td>-7.306642</td>\n",
              "      <td>-7.334833</td>\n",
              "      <td>-8.223146</td>\n",
              "      <td>-8.534250</td>\n",
              "      <td>-9.282389</td>\n",
              "      <td>-8.036063</td>\n",
              "      <td>-8.908287</td>\n",
              "      <td>-9.008127</td>\n",
              "      <td>-8.175250</td>\n",
              "      <td>-9.142083</td>\n",
              "      <td>-9.049544</td>\n",
              "      <td>-8.943677</td>\n",
              "      <td>-8.651940</td>\n",
              "      <td>-8.845353</td>\n",
              "      <td>-8.985020</td>\n",
              "      <td>-9.046932</td>\n",
              "      <td>-8.860779</td>\n",
              "      <td>-8.404084</td>\n",
              "      <td>-8.985739</td>\n",
              "      <td>-9.412004</td>\n",
              "      <td>-9.362600</td>\n",
              "      <td>-8.518716</td>\n",
              "      <td>-8.951772</td>\n",
              "      <td>-9.656680</td>\n",
              "      <td>-8.999254</td>\n",
              "      <td>-8.194818</td>\n",
              "      <td>-8.555588</td>\n",
              "      <td>-8.130511</td>\n",
              "      <td>-8.649147</td>\n",
              "      <td>-8.798241</td>\n",
              "      <td>-9.308414</td>\n",
              "      <td>-8.968436</td>\n",
              "    </tr>\n",
              "    <tr>\n",
              "      <th>4</th>\n",
              "      <td>-9.305664</td>\n",
              "      <td>-9.155427</td>\n",
              "      <td>-9.535343</td>\n",
              "      <td>-9.109009</td>\n",
              "      <td>-9.358711</td>\n",
              "      <td>-9.422623</td>\n",
              "      <td>-9.537633</td>\n",
              "      <td>-9.904076</td>\n",
              "      <td>-9.147005</td>\n",
              "      <td>-9.904493</td>\n",
              "      <td>-8.922844</td>\n",
              "      <td>-8.859772</td>\n",
              "      <td>-9.502663</td>\n",
              "      <td>-8.915450</td>\n",
              "      <td>-8.491714</td>\n",
              "      <td>-8.681621</td>\n",
              "      <td>-9.033426</td>\n",
              "      <td>-8.817958</td>\n",
              "      <td>-8.953030</td>\n",
              "      <td>-9.635946</td>\n",
              "      <td>-9.621037</td>\n",
              "      <td>-9.712135</td>\n",
              "      <td>-9.197438</td>\n",
              "      <td>-9.093327</td>\n",
              "      <td>-9.217012</td>\n",
              "      <td>-9.303124</td>\n",
              "      <td>-9.132378</td>\n",
              "      <td>-9.216386</td>\n",
              "      <td>-8.721937</td>\n",
              "      <td>-8.931130</td>\n",
              "      <td>-8.771781</td>\n",
              "      <td>-9.055697</td>\n",
              "      <td>-8.470310</td>\n",
              "      <td>-8.665389</td>\n",
              "      <td>-8.618127</td>\n",
              "      <td>-9.210345</td>\n",
              "      <td>-9.190616</td>\n",
              "      <td>-9.340817</td>\n",
              "      <td>-9.554475</td>\n",
              "      <td>-9.739613</td>\n",
              "      <td>...</td>\n",
              "      <td>-7.725891</td>\n",
              "      <td>-8.622939</td>\n",
              "      <td>-9.203708</td>\n",
              "      <td>-9.024197</td>\n",
              "      <td>-8.374678</td>\n",
              "      <td>-9.011034</td>\n",
              "      <td>-8.145206</td>\n",
              "      <td>-7.306642</td>\n",
              "      <td>-7.334833</td>\n",
              "      <td>-8.223146</td>\n",
              "      <td>-8.534250</td>\n",
              "      <td>-9.282389</td>\n",
              "      <td>-8.036063</td>\n",
              "      <td>-8.908287</td>\n",
              "      <td>-9.008127</td>\n",
              "      <td>-8.175250</td>\n",
              "      <td>-9.142083</td>\n",
              "      <td>-9.049544</td>\n",
              "      <td>-8.943677</td>\n",
              "      <td>-8.651940</td>\n",
              "      <td>-8.845353</td>\n",
              "      <td>-8.985020</td>\n",
              "      <td>-9.046932</td>\n",
              "      <td>-8.860779</td>\n",
              "      <td>-8.404084</td>\n",
              "      <td>-8.985739</td>\n",
              "      <td>-9.412004</td>\n",
              "      <td>-9.362600</td>\n",
              "      <td>-8.518716</td>\n",
              "      <td>-8.951772</td>\n",
              "      <td>-9.656680</td>\n",
              "      <td>-8.999254</td>\n",
              "      <td>-8.194818</td>\n",
              "      <td>-8.555588</td>\n",
              "      <td>-8.130511</td>\n",
              "      <td>-8.649147</td>\n",
              "      <td>-8.798241</td>\n",
              "      <td>-9.308414</td>\n",
              "      <td>-8.968436</td>\n",
              "      <td>-9.281390</td>\n",
              "    </tr>\n",
              "    <tr>\n",
              "      <th>...</th>\n",
              "      <td>...</td>\n",
              "      <td>...</td>\n",
              "      <td>...</td>\n",
              "      <td>...</td>\n",
              "      <td>...</td>\n",
              "      <td>...</td>\n",
              "      <td>...</td>\n",
              "      <td>...</td>\n",
              "      <td>...</td>\n",
              "      <td>...</td>\n",
              "      <td>...</td>\n",
              "      <td>...</td>\n",
              "      <td>...</td>\n",
              "      <td>...</td>\n",
              "      <td>...</td>\n",
              "      <td>...</td>\n",
              "      <td>...</td>\n",
              "      <td>...</td>\n",
              "      <td>...</td>\n",
              "      <td>...</td>\n",
              "      <td>...</td>\n",
              "      <td>...</td>\n",
              "      <td>...</td>\n",
              "      <td>...</td>\n",
              "      <td>...</td>\n",
              "      <td>...</td>\n",
              "      <td>...</td>\n",
              "      <td>...</td>\n",
              "      <td>...</td>\n",
              "      <td>...</td>\n",
              "      <td>...</td>\n",
              "      <td>...</td>\n",
              "      <td>...</td>\n",
              "      <td>...</td>\n",
              "      <td>...</td>\n",
              "      <td>...</td>\n",
              "      <td>...</td>\n",
              "      <td>...</td>\n",
              "      <td>...</td>\n",
              "      <td>...</td>\n",
              "      <td>...</td>\n",
              "      <td>...</td>\n",
              "      <td>...</td>\n",
              "      <td>...</td>\n",
              "      <td>...</td>\n",
              "      <td>...</td>\n",
              "      <td>...</td>\n",
              "      <td>...</td>\n",
              "      <td>...</td>\n",
              "      <td>...</td>\n",
              "      <td>...</td>\n",
              "      <td>...</td>\n",
              "      <td>...</td>\n",
              "      <td>...</td>\n",
              "      <td>...</td>\n",
              "      <td>...</td>\n",
              "      <td>...</td>\n",
              "      <td>...</td>\n",
              "      <td>...</td>\n",
              "      <td>...</td>\n",
              "      <td>...</td>\n",
              "      <td>...</td>\n",
              "      <td>...</td>\n",
              "      <td>...</td>\n",
              "      <td>...</td>\n",
              "      <td>...</td>\n",
              "      <td>...</td>\n",
              "      <td>...</td>\n",
              "      <td>...</td>\n",
              "      <td>...</td>\n",
              "      <td>...</td>\n",
              "      <td>...</td>\n",
              "      <td>...</td>\n",
              "      <td>...</td>\n",
              "      <td>...</td>\n",
              "      <td>...</td>\n",
              "      <td>...</td>\n",
              "      <td>...</td>\n",
              "      <td>...</td>\n",
              "      <td>...</td>\n",
              "      <td>...</td>\n",
              "    </tr>\n",
              "    <tr>\n",
              "      <th>5190</th>\n",
              "      <td>-9.460883</td>\n",
              "      <td>-8.901124</td>\n",
              "      <td>-9.132088</td>\n",
              "      <td>-8.709728</td>\n",
              "      <td>-9.571281</td>\n",
              "      <td>-9.067405</td>\n",
              "      <td>-8.654246</td>\n",
              "      <td>-9.218303</td>\n",
              "      <td>-9.718946</td>\n",
              "      <td>-9.956796</td>\n",
              "      <td>-9.110272</td>\n",
              "      <td>-9.290737</td>\n",
              "      <td>-8.879409</td>\n",
              "      <td>-10.562944</td>\n",
              "      <td>-8.774549</td>\n",
              "      <td>-10.065528</td>\n",
              "      <td>-10.408474</td>\n",
              "      <td>-10.668200</td>\n",
              "      <td>-10.464095</td>\n",
              "      <td>-9.794443</td>\n",
              "      <td>-9.830127</td>\n",
              "      <td>-9.752263</td>\n",
              "      <td>-10.300115</td>\n",
              "      <td>-9.488193</td>\n",
              "      <td>-9.216272</td>\n",
              "      <td>-9.503591</td>\n",
              "      <td>-9.665082</td>\n",
              "      <td>-10.190396</td>\n",
              "      <td>-9.364740</td>\n",
              "      <td>-9.762235</td>\n",
              "      <td>-8.839525</td>\n",
              "      <td>-8.897777</td>\n",
              "      <td>-8.493093</td>\n",
              "      <td>-9.084779</td>\n",
              "      <td>-9.463608</td>\n",
              "      <td>-8.775186</td>\n",
              "      <td>-9.499394</td>\n",
              "      <td>-9.477454</td>\n",
              "      <td>-7.977264</td>\n",
              "      <td>-8.855540</td>\n",
              "      <td>...</td>\n",
              "      <td>-9.997924</td>\n",
              "      <td>-10.313750</td>\n",
              "      <td>-10.176807</td>\n",
              "      <td>-10.582046</td>\n",
              "      <td>-10.806415</td>\n",
              "      <td>-11.061977</td>\n",
              "      <td>-10.155028</td>\n",
              "      <td>-9.475955</td>\n",
              "      <td>-10.421819</td>\n",
              "      <td>-10.924798</td>\n",
              "      <td>-11.986104</td>\n",
              "      <td>-11.727986</td>\n",
              "      <td>-10.616909</td>\n",
              "      <td>-11.303232</td>\n",
              "      <td>-11.208282</td>\n",
              "      <td>-9.199136</td>\n",
              "      <td>-9.976340</td>\n",
              "      <td>-9.224918</td>\n",
              "      <td>-10.610724</td>\n",
              "      <td>-9.793490</td>\n",
              "      <td>-10.116000</td>\n",
              "      <td>-10.765849</td>\n",
              "      <td>-10.731061</td>\n",
              "      <td>-9.862134</td>\n",
              "      <td>-10.364204</td>\n",
              "      <td>-10.937397</td>\n",
              "      <td>-10.986608</td>\n",
              "      <td>-10.883660</td>\n",
              "      <td>-9.354476</td>\n",
              "      <td>-10.448699</td>\n",
              "      <td>-8.697709</td>\n",
              "      <td>-9.236809</td>\n",
              "      <td>-8.681075</td>\n",
              "      <td>-9.540341</td>\n",
              "      <td>-10.311515</td>\n",
              "      <td>-10.208976</td>\n",
              "      <td>-11.029370</td>\n",
              "      <td>-10.904074</td>\n",
              "      <td>-11.107071</td>\n",
              "      <td>-11.422051</td>\n",
              "    </tr>\n",
              "    <tr>\n",
              "      <th>5191</th>\n",
              "      <td>-8.901124</td>\n",
              "      <td>-9.132088</td>\n",
              "      <td>-8.709728</td>\n",
              "      <td>-9.571281</td>\n",
              "      <td>-9.067405</td>\n",
              "      <td>-8.654246</td>\n",
              "      <td>-9.218303</td>\n",
              "      <td>-9.718946</td>\n",
              "      <td>-9.956796</td>\n",
              "      <td>-9.110272</td>\n",
              "      <td>-9.290737</td>\n",
              "      <td>-8.879409</td>\n",
              "      <td>-10.562944</td>\n",
              "      <td>-8.774549</td>\n",
              "      <td>-10.065528</td>\n",
              "      <td>-10.408474</td>\n",
              "      <td>-10.668200</td>\n",
              "      <td>-10.464095</td>\n",
              "      <td>-9.794443</td>\n",
              "      <td>-9.830127</td>\n",
              "      <td>-9.752263</td>\n",
              "      <td>-10.300115</td>\n",
              "      <td>-9.488193</td>\n",
              "      <td>-9.216272</td>\n",
              "      <td>-9.503591</td>\n",
              "      <td>-9.665082</td>\n",
              "      <td>-10.190396</td>\n",
              "      <td>-9.364740</td>\n",
              "      <td>-9.762235</td>\n",
              "      <td>-8.839525</td>\n",
              "      <td>-8.897777</td>\n",
              "      <td>-8.493093</td>\n",
              "      <td>-9.084779</td>\n",
              "      <td>-9.463608</td>\n",
              "      <td>-8.775186</td>\n",
              "      <td>-9.499394</td>\n",
              "      <td>-9.477454</td>\n",
              "      <td>-7.977264</td>\n",
              "      <td>-8.855540</td>\n",
              "      <td>-10.154824</td>\n",
              "      <td>...</td>\n",
              "      <td>-10.313750</td>\n",
              "      <td>-10.176807</td>\n",
              "      <td>-10.582046</td>\n",
              "      <td>-10.806415</td>\n",
              "      <td>-11.061977</td>\n",
              "      <td>-10.155028</td>\n",
              "      <td>-9.475955</td>\n",
              "      <td>-10.421819</td>\n",
              "      <td>-10.924798</td>\n",
              "      <td>-11.986104</td>\n",
              "      <td>-11.727986</td>\n",
              "      <td>-10.616909</td>\n",
              "      <td>-11.303232</td>\n",
              "      <td>-11.208282</td>\n",
              "      <td>-9.199136</td>\n",
              "      <td>-9.976340</td>\n",
              "      <td>-9.224918</td>\n",
              "      <td>-10.610724</td>\n",
              "      <td>-9.793490</td>\n",
              "      <td>-10.116000</td>\n",
              "      <td>-10.765849</td>\n",
              "      <td>-10.731061</td>\n",
              "      <td>-9.862134</td>\n",
              "      <td>-10.364204</td>\n",
              "      <td>-10.937397</td>\n",
              "      <td>-10.986608</td>\n",
              "      <td>-10.883660</td>\n",
              "      <td>-9.354476</td>\n",
              "      <td>-10.448699</td>\n",
              "      <td>-8.697709</td>\n",
              "      <td>-9.236809</td>\n",
              "      <td>-8.681075</td>\n",
              "      <td>-9.540341</td>\n",
              "      <td>-10.311515</td>\n",
              "      <td>-10.208976</td>\n",
              "      <td>-11.029370</td>\n",
              "      <td>-10.904074</td>\n",
              "      <td>-11.107071</td>\n",
              "      <td>-11.422051</td>\n",
              "      <td>-9.810574</td>\n",
              "    </tr>\n",
              "    <tr>\n",
              "      <th>5192</th>\n",
              "      <td>-9.132088</td>\n",
              "      <td>-8.709728</td>\n",
              "      <td>-9.571281</td>\n",
              "      <td>-9.067405</td>\n",
              "      <td>-8.654246</td>\n",
              "      <td>-9.218303</td>\n",
              "      <td>-9.718946</td>\n",
              "      <td>-9.956796</td>\n",
              "      <td>-9.110272</td>\n",
              "      <td>-9.290737</td>\n",
              "      <td>-8.879409</td>\n",
              "      <td>-10.562944</td>\n",
              "      <td>-8.774549</td>\n",
              "      <td>-10.065528</td>\n",
              "      <td>-10.408474</td>\n",
              "      <td>-10.668200</td>\n",
              "      <td>-10.464095</td>\n",
              "      <td>-9.794443</td>\n",
              "      <td>-9.830127</td>\n",
              "      <td>-9.752263</td>\n",
              "      <td>-10.300115</td>\n",
              "      <td>-9.488193</td>\n",
              "      <td>-9.216272</td>\n",
              "      <td>-9.503591</td>\n",
              "      <td>-9.665082</td>\n",
              "      <td>-10.190396</td>\n",
              "      <td>-9.364740</td>\n",
              "      <td>-9.762235</td>\n",
              "      <td>-8.839525</td>\n",
              "      <td>-8.897777</td>\n",
              "      <td>-8.493093</td>\n",
              "      <td>-9.084779</td>\n",
              "      <td>-9.463608</td>\n",
              "      <td>-8.775186</td>\n",
              "      <td>-9.499394</td>\n",
              "      <td>-9.477454</td>\n",
              "      <td>-7.977264</td>\n",
              "      <td>-8.855540</td>\n",
              "      <td>-10.154824</td>\n",
              "      <td>-9.630805</td>\n",
              "      <td>...</td>\n",
              "      <td>-10.176807</td>\n",
              "      <td>-10.582046</td>\n",
              "      <td>-10.806415</td>\n",
              "      <td>-11.061977</td>\n",
              "      <td>-10.155028</td>\n",
              "      <td>-9.475955</td>\n",
              "      <td>-10.421819</td>\n",
              "      <td>-10.924798</td>\n",
              "      <td>-11.986104</td>\n",
              "      <td>-11.727986</td>\n",
              "      <td>-10.616909</td>\n",
              "      <td>-11.303232</td>\n",
              "      <td>-11.208282</td>\n",
              "      <td>-9.199136</td>\n",
              "      <td>-9.976340</td>\n",
              "      <td>-9.224918</td>\n",
              "      <td>-10.610724</td>\n",
              "      <td>-9.793490</td>\n",
              "      <td>-10.116000</td>\n",
              "      <td>-10.765849</td>\n",
              "      <td>-10.731061</td>\n",
              "      <td>-9.862134</td>\n",
              "      <td>-10.364204</td>\n",
              "      <td>-10.937397</td>\n",
              "      <td>-10.986608</td>\n",
              "      <td>-10.883660</td>\n",
              "      <td>-9.354476</td>\n",
              "      <td>-10.448699</td>\n",
              "      <td>-8.697709</td>\n",
              "      <td>-9.236809</td>\n",
              "      <td>-8.681075</td>\n",
              "      <td>-9.540341</td>\n",
              "      <td>-10.311515</td>\n",
              "      <td>-10.208976</td>\n",
              "      <td>-11.029370</td>\n",
              "      <td>-10.904074</td>\n",
              "      <td>-11.107071</td>\n",
              "      <td>-11.422051</td>\n",
              "      <td>-9.810574</td>\n",
              "      <td>-10.354145</td>\n",
              "    </tr>\n",
              "    <tr>\n",
              "      <th>5193</th>\n",
              "      <td>-8.709728</td>\n",
              "      <td>-9.571281</td>\n",
              "      <td>-9.067405</td>\n",
              "      <td>-8.654246</td>\n",
              "      <td>-9.218303</td>\n",
              "      <td>-9.718946</td>\n",
              "      <td>-9.956796</td>\n",
              "      <td>-9.110272</td>\n",
              "      <td>-9.290737</td>\n",
              "      <td>-8.879409</td>\n",
              "      <td>-10.562944</td>\n",
              "      <td>-8.774549</td>\n",
              "      <td>-10.065528</td>\n",
              "      <td>-10.408474</td>\n",
              "      <td>-10.668200</td>\n",
              "      <td>-10.464095</td>\n",
              "      <td>-9.794443</td>\n",
              "      <td>-9.830127</td>\n",
              "      <td>-9.752263</td>\n",
              "      <td>-10.300115</td>\n",
              "      <td>-9.488193</td>\n",
              "      <td>-9.216272</td>\n",
              "      <td>-9.503591</td>\n",
              "      <td>-9.665082</td>\n",
              "      <td>-10.190396</td>\n",
              "      <td>-9.364740</td>\n",
              "      <td>-9.762235</td>\n",
              "      <td>-8.839525</td>\n",
              "      <td>-8.897777</td>\n",
              "      <td>-8.493093</td>\n",
              "      <td>-9.084779</td>\n",
              "      <td>-9.463608</td>\n",
              "      <td>-8.775186</td>\n",
              "      <td>-9.499394</td>\n",
              "      <td>-9.477454</td>\n",
              "      <td>-7.977264</td>\n",
              "      <td>-8.855540</td>\n",
              "      <td>-10.154824</td>\n",
              "      <td>-9.630805</td>\n",
              "      <td>-10.268848</td>\n",
              "      <td>...</td>\n",
              "      <td>-10.582046</td>\n",
              "      <td>-10.806415</td>\n",
              "      <td>-11.061977</td>\n",
              "      <td>-10.155028</td>\n",
              "      <td>-9.475955</td>\n",
              "      <td>-10.421819</td>\n",
              "      <td>-10.924798</td>\n",
              "      <td>-11.986104</td>\n",
              "      <td>-11.727986</td>\n",
              "      <td>-10.616909</td>\n",
              "      <td>-11.303232</td>\n",
              "      <td>-11.208282</td>\n",
              "      <td>-9.199136</td>\n",
              "      <td>-9.976340</td>\n",
              "      <td>-9.224918</td>\n",
              "      <td>-10.610724</td>\n",
              "      <td>-9.793490</td>\n",
              "      <td>-10.116000</td>\n",
              "      <td>-10.765849</td>\n",
              "      <td>-10.731061</td>\n",
              "      <td>-9.862134</td>\n",
              "      <td>-10.364204</td>\n",
              "      <td>-10.937397</td>\n",
              "      <td>-10.986608</td>\n",
              "      <td>-10.883660</td>\n",
              "      <td>-9.354476</td>\n",
              "      <td>-10.448699</td>\n",
              "      <td>-8.697709</td>\n",
              "      <td>-9.236809</td>\n",
              "      <td>-8.681075</td>\n",
              "      <td>-9.540341</td>\n",
              "      <td>-10.311515</td>\n",
              "      <td>-10.208976</td>\n",
              "      <td>-11.029370</td>\n",
              "      <td>-10.904074</td>\n",
              "      <td>-11.107071</td>\n",
              "      <td>-11.422051</td>\n",
              "      <td>-9.810574</td>\n",
              "      <td>-10.354145</td>\n",
              "      <td>-11.268949</td>\n",
              "    </tr>\n",
              "    <tr>\n",
              "      <th>5194</th>\n",
              "      <td>-9.571281</td>\n",
              "      <td>-9.067405</td>\n",
              "      <td>-8.654246</td>\n",
              "      <td>-9.218303</td>\n",
              "      <td>-9.718946</td>\n",
              "      <td>-9.956796</td>\n",
              "      <td>-9.110272</td>\n",
              "      <td>-9.290737</td>\n",
              "      <td>-8.879409</td>\n",
              "      <td>-10.562944</td>\n",
              "      <td>-8.774549</td>\n",
              "      <td>-10.065528</td>\n",
              "      <td>-10.408474</td>\n",
              "      <td>-10.668200</td>\n",
              "      <td>-10.464095</td>\n",
              "      <td>-9.794443</td>\n",
              "      <td>-9.830127</td>\n",
              "      <td>-9.752263</td>\n",
              "      <td>-10.300115</td>\n",
              "      <td>-9.488193</td>\n",
              "      <td>-9.216272</td>\n",
              "      <td>-9.503591</td>\n",
              "      <td>-9.665082</td>\n",
              "      <td>-10.190396</td>\n",
              "      <td>-9.364740</td>\n",
              "      <td>-9.762235</td>\n",
              "      <td>-8.839525</td>\n",
              "      <td>-8.897777</td>\n",
              "      <td>-8.493093</td>\n",
              "      <td>-9.084779</td>\n",
              "      <td>-9.463608</td>\n",
              "      <td>-8.775186</td>\n",
              "      <td>-9.499394</td>\n",
              "      <td>-9.477454</td>\n",
              "      <td>-7.977264</td>\n",
              "      <td>-8.855540</td>\n",
              "      <td>-10.154824</td>\n",
              "      <td>-9.630805</td>\n",
              "      <td>-10.268848</td>\n",
              "      <td>-10.065551</td>\n",
              "      <td>...</td>\n",
              "      <td>-10.806415</td>\n",
              "      <td>-11.061977</td>\n",
              "      <td>-10.155028</td>\n",
              "      <td>-9.475955</td>\n",
              "      <td>-10.421819</td>\n",
              "      <td>-10.924798</td>\n",
              "      <td>-11.986104</td>\n",
              "      <td>-11.727986</td>\n",
              "      <td>-10.616909</td>\n",
              "      <td>-11.303232</td>\n",
              "      <td>-11.208282</td>\n",
              "      <td>-9.199136</td>\n",
              "      <td>-9.976340</td>\n",
              "      <td>-9.224918</td>\n",
              "      <td>-10.610724</td>\n",
              "      <td>-9.793490</td>\n",
              "      <td>-10.116000</td>\n",
              "      <td>-10.765849</td>\n",
              "      <td>-10.731061</td>\n",
              "      <td>-9.862134</td>\n",
              "      <td>-10.364204</td>\n",
              "      <td>-10.937397</td>\n",
              "      <td>-10.986608</td>\n",
              "      <td>-10.883660</td>\n",
              "      <td>-9.354476</td>\n",
              "      <td>-10.448699</td>\n",
              "      <td>-8.697709</td>\n",
              "      <td>-9.236809</td>\n",
              "      <td>-8.681075</td>\n",
              "      <td>-9.540341</td>\n",
              "      <td>-10.311515</td>\n",
              "      <td>-10.208976</td>\n",
              "      <td>-11.029370</td>\n",
              "      <td>-10.904074</td>\n",
              "      <td>-11.107071</td>\n",
              "      <td>-11.422051</td>\n",
              "      <td>-9.810574</td>\n",
              "      <td>-10.354145</td>\n",
              "      <td>-11.268949</td>\n",
              "      <td>-10.337996</td>\n",
              "    </tr>\n",
              "  </tbody>\n",
              "</table>\n",
              "<p>5195 rows × 100 columns</p>\n",
              "</div>"
            ],
            "text/plain": [
              "            0         1         2   ...         97         98         99\n",
              "0    -9.013685 -8.857427 -8.426213  ...  -8.555588  -8.130511  -8.649147\n",
              "1    -8.857427 -8.426213 -8.974581  ...  -8.130511  -8.649147  -8.798241\n",
              "2    -8.426213 -8.974581 -9.305664  ...  -8.649147  -8.798241  -9.308414\n",
              "3    -8.974581 -9.305664 -9.155427  ...  -8.798241  -9.308414  -8.968436\n",
              "4    -9.305664 -9.155427 -9.535343  ...  -9.308414  -8.968436  -9.281390\n",
              "...        ...       ...       ...  ...        ...        ...        ...\n",
              "5190 -9.460883 -8.901124 -9.132088  ... -10.904074 -11.107071 -11.422051\n",
              "5191 -8.901124 -9.132088 -8.709728  ... -11.107071 -11.422051  -9.810574\n",
              "5192 -9.132088 -8.709728 -9.571281  ... -11.422051  -9.810574 -10.354145\n",
              "5193 -8.709728 -9.571281 -9.067405  ...  -9.810574 -10.354145 -11.268949\n",
              "5194 -9.571281 -9.067405 -8.654246  ... -10.354145 -11.268949 -10.337996\n",
              "\n",
              "[5195 rows x 100 columns]"
            ]
          },
          "metadata": {
            "tags": []
          },
          "execution_count": 122
        }
      ]
    },
    {
      "cell_type": "markdown",
      "metadata": {
        "id": "pHUaCAFfEIZ9"
      },
      "source": [
        "## 2) LSTM pour la prévision\n",
        "\n",
        "- Voici les paramètres : \n",
        "  - T_in : Longueur des données dans la fenêtre train\n",
        "  - dT : Nombre de points entre calibration (nombre de points prédit par le réseau après chaque entrainement)\n",
        "  - t1s : Vecteur des pas de temps de fin de fenetre de calibration \n",
        "  - On utilise stateful LSTM (qui ne reset pas l'état caché entre deux échantillons)\n",
        "    - Par défaut le LSTM de keras reset l'état du réseau (state) après chaque batch size\n",
        "    - On utilise donc stateful pour garder l'état caché pour les batchs d'après.\n",
        "\n",
        "- Une fois qu'on a entrainé le modèle, il va falloir prédire sur la partie d'après (de t1 à t1+dT), puis le principe est le même pour chaque itération."
      ]
    },
    {
      "cell_type": "code",
      "metadata": {
        "id": "H-Ya2CjJToVj"
      },
      "source": [
        "def pred_LSTM(neurons_lstm, batch_size, X_sample_shape):\n",
        "  \"\"\" Retourne un modèle juste compilé\"\"\"\n",
        "  model = Sequential()\n",
        "  # model.add(LSTM(neurons_lstm, input_shape=(X_sample_shape[1], X_sample_shape[2]), stateful=True))\n",
        "  model.add(LSTM(neurons_lstm, batch_input_shape=(batch_size, X_sample_shape[1], X_sample_shape[2]), stateful=True))\n",
        "  # On rajoute la couche de sortie\n",
        "  model.add(Dense(units=1)) # on ne précise pas l'activation, donc ca va être \"linéaire\" par défaut. \n",
        "  # On compile \n",
        "  model.compile(optimizer=\"adam\", loss=\"mean_squared_error\", metrics=[\"mean_squared_error\"])\n",
        "  return model"
      ],
      "execution_count": 123,
      "outputs": []
    },
    {
      "cell_type": "code",
      "metadata": {
        "id": "ldeBfuzXOfDL"
      },
      "source": [
        "# Nos paramètres\n",
        "batch_size=64\n",
        "neurons_lstm = 100\n",
        "num_epochs = 20\n",
        "T_in = batch_size*20 \n",
        "dT = 100  "
      ],
      "execution_count": 124,
      "outputs": []
    },
    {
      "cell_type": "code",
      "metadata": {
        "id": "mGyY019Ox9A1"
      },
      "source": [
        "import warnings; warnings.simplefilter('ignore')\n",
        "\n",
        "t1s=np.arange(T_in,X_sample.shape[0]-T_in,dT) ### Nous on doit faire une boucle ou on entraine N fois notre réseau de neurones de facon mobile\n",
        "myLSTM = pred_LSTM(neurons_lstm, batch_size, X_sample.shape)   # define a function that returns a model  ### Il faut définir cette fonction\n",
        "predstot2 = np.array([])\n",
        "\n",
        "for t1 in tqdm(t1s):\n",
        "  t0 = t1 - T_in\n",
        "  myLSTM.fit(X_sample[t0:t1], y_sample[t0:t1], batch_size = batch_size, validation_split = 0.2, epochs=num_epochs)\n",
        "  myLSTM_1 = pred_LSTM(neurons_lstm, dT, X_sample.shape)\n",
        "  # on utilise set_weights car la taille du batch size est différent (dT=100 pour la prédiction)\n",
        "  myLSTM_1.set_weights(myLSTM.get_weights())\n",
        "  preds = myLSTM_1.predict(X_sample[t1:t1+dT],batch_size=dT).flatten()\n",
        "\n",
        "  # On concatene toutes les predictions\n",
        "  predstot2 = np.concatenate((predstot2, preds))"
      ],
      "execution_count": null,
      "outputs": []
    },
    {
      "cell_type": "markdown",
      "metadata": {
        "id": "1zrNc97wrJ0a"
      },
      "source": [
        "- On revient reprend la variance normale avec l'exponentielle, puis on l'annualise pour pouvoir comparer"
      ]
    },
    {
      "cell_type": "code",
      "metadata": {
        "id": "OuniEC-1Pz-P"
      },
      "source": [
        "# On revient a la variance normale avec l'exp\n",
        "X_full_2 = np.exp(X_full_log)[N_I + t1s[0]:t1s[-1]+N_I+dT] # la prédiction commence à partir de la 1380ème donnée (100 timesteps + 1280 premier entrainement)\n",
        "predstot2 = np.exp(predstot2)"
      ],
      "execution_count": 126,
      "outputs": []
    },
    {
      "cell_type": "code",
      "metadata": {
        "id": "_67Z3sL5YP_g"
      },
      "source": [
        "# On annualise\n",
        "X_full_2 = np.sqrt(X_full_2*252)\n",
        "predstot2 = np.sqrt(predstot2*252)"
      ],
      "execution_count": 127,
      "outputs": []
    },
    {
      "cell_type": "code",
      "metadata": {
        "colab": {
          "base_uri": "https://localhost:8080/",
          "height": 391
        },
        "id": "8u27kHxc7G--",
        "outputId": "763df5a9-c704-45e0-e0eb-c342d20078e5"
      },
      "source": [
        "fig, ax = plt.subplots(1,2,figsize=(20,6))\n",
        "ax[0].set(xlabel=\"Points\", ylabel=\"Annualized vol\")\n",
        "ax[0].set(xlabel=\"Realized\", ylabel=\"Predicted\")\n",
        "ax[0].plot(X_full_2, \"b\", label=\"Realized\")\n",
        "ax[0].plot(predstot2, \"r\", label=\"Predicted\");\n",
        "ax[1].plot(predstot2, X_full_2, 'bo');\n",
        "ax[0].legend();"
      ],
      "execution_count": 128,
      "outputs": [
        {
          "output_type": "display_data",
          "data": {
            "image/png": "[encoded data removed]",
            "text/plain": [
              "<Figure size 1440x432 with 2 Axes>"
            ]
          },
          "metadata": {
            "tags": [],
            "needs_background": "light"
          }
        }
      ]
    },
    {
      "cell_type": "markdown",
      "metadata": {
        "id": "myz4nlAweTGc"
      },
      "source": [
        "- On voit donc que les pics de vols ne sont pas bien prédit.\r\n",
        "\r\n",
        "  - En fait, on ne parvient pas à prédire la bonne amplitude des pics car le réseau ne peut pas prédire ce qu'il ne connait pas. En effet, sur les précédentes valeurs, aucun pic d'une telle amplitude n'est observé.\r\n",
        "\r\n",
        "  - Afin de prédire correctement ces valeurs extremes de volatilité, il faudrait des pics plus fréquents, ce qui pose le problème de la taille de la fenêtre. Mais plus on entraine le réseau sur une longue période, plus on rencontre de valeurs extremes ce qui permettra de mieux estimer l'amplitude des pics. \r\n",
        "\r\n"
      ]
    },
    {
      "cell_type": "code",
      "metadata": {
        "id": "fyaNeG4puTmh"
      },
      "source": [
        "# On stocke les dernières prévisions\n",
        "pd.DataFrame(predstot2).to_csv(\"/content/drive/MyDrive/Colab Notebooks Centrale/Deep Learning in Finance/TP5_PredVol/Predicted_vol_2.csv\", index=False, header=False)"
      ],
      "execution_count": 129,
      "outputs": []
    },
    {
      "cell_type": "markdown",
      "metadata": {
        "id": "Zim8zo-7cY34"
      },
      "source": [
        "---\n",
        "# 3 - DL + Modèle"
      ]
    },
    {
      "cell_type": "markdown",
      "metadata": {
        "id": "1_f9TPlBv_k5"
      },
      "source": [
        "## 1) Ajout de la volatilité prédite en partie 1.1\n",
        "\n",
        "- Ici nous allons rajouter la prévisibilité stockée durant la partie 1.1 dans notre matrice de predicteur.\n",
        "- On note qu'on doit enlever les 501 premieres valeurs de nos variances réalisées car les vols prédites (rv_predict) ne les contiennent pas.\n",
        "- Nous utilisons ensuite la même architecture afin d'estimer la volatilité. "
      ]
    },
    {
      "cell_type": "code",
      "metadata": {
        "id": "8Lbe-pXw7Gzs"
      },
      "source": [
        "X_full_log = np.log(spx[[\"rk_twoscale\"]][501:].values)\n",
        "rv_predict_log = np.log(pd.read_csv(\"/content/drive/MyDrive/Colab Notebooks Centrale/Deep Learning in Finance/TP5_PredVol/Predicted_vol_1.1.csv\", header=None).values)"
      ],
      "execution_count": 176,
      "outputs": []
    },
    {
      "cell_type": "code",
      "metadata": {
        "id": "ozNu7-ZoEG7S",
        "colab": {
          "base_uri": "https://localhost:8080/"
        },
        "outputId": "2fc47ee9-34cc-40f2-b4d0-a65e45396e3b"
      },
      "source": [
        "N_I = 100 # length of sequences input to LSTMs (peut etre a changer))\n",
        "X_full_log_sample, y_sample = split_sequence_univariate(X_full_log, N_I)\n",
        "rv_predict_log_sample, _ = split_sequence_univariate(rv_predict_log, N_I)\n",
        "# On concatene de sorte a avoir la deuxieme feature en profondeur (cube)\n",
        "X_sample = np.concatenate((X_full_log_sample, rv_predict_log_sample), axis=2)\n",
        "X_sample.shape"
      ],
      "execution_count": 177,
      "outputs": [
        {
          "output_type": "execute_result",
          "data": {
            "text/plain": [
              "(4694, 100, 2)"
            ]
          },
          "metadata": {
            "tags": []
          },
          "execution_count": 177
        }
      ]
    },
    {
      "cell_type": "markdown",
      "metadata": {
        "id": "MwUcwIDb5FHp"
      },
      "source": [
        "- On refait tourner de la même manière que la question précédente, en gardant les mêmes paramètres"
      ]
    },
    {
      "cell_type": "code",
      "metadata": {
        "id": "U_iIiSgUu4YG"
      },
      "source": [
        "# Nos paramètres\n",
        "batch_size=64\n",
        "neurons_lstm = 100\n",
        "num_epochs = 20\n",
        "T_in = batch_size*20 \n",
        "dT = 100\n",
        "\n",
        "t1s=np.arange(T_in,X_sample.shape[0]-T_in,dT) \n",
        "myLSTM = pred_LSTM(neurons_lstm, batch_size, X_sample.shape) \n",
        "predstot3 = np.array([])\n",
        "\n",
        "for t1 in tqdm(t1s):\n",
        "  t0 = t1 - T_in\n",
        "  myLSTM.fit(X_sample[t0:t1], y_sample[t0:t1], batch_size = batch_size, validation_split = 0.2, epochs=num_epochs)\n",
        "  myLSTM_1 = pred_LSTM(neurons_lstm, dT, X_sample.shape)\n",
        "  myLSTM_1.set_weights(myLSTM.get_weights())\n",
        "  preds = myLSTM_1.predict(X_sample[t1:t1+dT],batch_size=dT).flatten()\n",
        "\n",
        "  # On concatene toutes les predictions\n",
        "  predstot3 = np.concatenate((predstot3, preds))"
      ],
      "execution_count": null,
      "outputs": []
    },
    {
      "cell_type": "code",
      "metadata": {
        "id": "UwFgLRXiu4Vp"
      },
      "source": [
        "# On revient a la variance normale avec l'exp\n",
        "X_full_3 = np.exp(X_full_log)[N_I + t1s[0]:t1s[-1]+N_I+dT]\n",
        "predstot3 = np.exp(predstot3)"
      ],
      "execution_count": 179,
      "outputs": []
    },
    {
      "cell_type": "code",
      "metadata": {
        "id": "-Fzoptu0YVx3"
      },
      "source": [
        "# On annualise\n",
        "X_full_3 = np.sqrt(X_full_3*252)\n",
        "predstot3 = np.sqrt(predstot3*252)"
      ],
      "execution_count": 180,
      "outputs": []
    },
    {
      "cell_type": "code",
      "metadata": {
        "colab": {
          "base_uri": "https://localhost:8080/",
          "height": 391
        },
        "id": "ko1c3AGTu4SK",
        "outputId": "cadba6c2-efe6-4cd2-b281-c34af1b7804f"
      },
      "source": [
        "fig, ax = plt.subplots(1,2,figsize=(20,6))\n",
        "ax[0].set(xlabel=\"Points\", ylabel=\"Annualized vol\")\n",
        "ax[0].set(xlabel=\"Realized\", ylabel=\"Predicted\")\n",
        "ax[0].plot(X_full_3, \"b\", label=\"Realized\")\n",
        "ax[0].plot(predstot3, \"r\", label=\"Predicted\");\n",
        "ax[1].plot(predstot3, X_full_3, 'bo');\n",
        "ax[0].legend();"
      ],
      "execution_count": 181,
      "outputs": [
        {
          "output_type": "display_data",
          "data": {
            "image/png": "[encoded data removed]",
            "text/plain": [
              "<Figure size 1440x432 with 2 Axes>"
            ]
          },
          "metadata": {
            "tags": [],
            "needs_background": "light"
          }
        }
      ]
    },
    {
      "cell_type": "markdown",
      "metadata": {
        "id": "vdYBaIxm6CPc"
      },
      "source": [
        "- On voit que pour les premiers pics le pouvoir prédictif est extremement faible, mais que les pics suivants sont mieux estimés (celui aux alentours de 1000 par exemple)\n",
        "- On note que nous avons moins de données ici,\n",
        "  - c'est du au fait que le fichier de vol_prédite du modèle rough ne contient pas les 501 premières valeurs, et que nos premières prédictions via le LSTM sont effectuées à partir de la 1380ème donnée (1280 taille de la fenêtre de calibration d'entrainement et 100 timesteps)\n",
        "  - le réseau ne peut dons pas autant apprendre que dans le cas précédent. "
      ]
    },
    {
      "cell_type": "markdown",
      "metadata": {
        "id": "9H_jbt0YwE6H"
      },
      "source": [
        "## 2) Autre possibilité : faire apprendre les résidus $\\log(\\sigma_{realized}) - \\log(\\sigma_{rough})$ au LSTM\n",
        "\n",
        "- Nous allons ici utiliser comme deuxième feature non pas les vols prédites mais les résidus."
      ]
    },
    {
      "cell_type": "code",
      "metadata": {
        "id": "kweu-GX1wFYQ"
      },
      "source": [
        "X_full_log = np.log(spx[[\"rk_twoscale\"]][501:].values)\n",
        "rv_predict_log = np.log(pd.read_csv(\"/content/drive/MyDrive/Colab Notebooks Centrale/Deep Learning in Finance/TP5_PredVol/Predicted_vol_1.1.csv\", header=None).values)\n",
        "\n",
        "resids = X_full_log - rv_predict_log"
      ],
      "execution_count": 182,
      "outputs": []
    },
    {
      "cell_type": "code",
      "metadata": {
        "colab": {
          "base_uri": "https://localhost:8080/"
        },
        "id": "8Nxvnm9owF64",
        "outputId": "ddf705d6-6176-41be-a5bd-cce80a650028"
      },
      "source": [
        "N_I = 100 \n",
        "X_full_log_sample, y_sample = split_sequence_univariate(X_full_log, N_I)\n",
        "resids_sample, _ = split_sequence_univariate(resids, N_I)\n",
        "# On concatene de sorte a avoir la deuxieme feature en profondeur (cube)\n",
        "X_sample = np.concatenate((X_full_log_sample, resids_sample), axis=2)\n",
        "X_sample.shape"
      ],
      "execution_count": 183,
      "outputs": [
        {
          "output_type": "execute_result",
          "data": {
            "text/plain": [
              "(4694, 100, 2)"
            ]
          },
          "metadata": {
            "tags": []
          },
          "execution_count": 183
        }
      ]
    },
    {
      "cell_type": "markdown",
      "metadata": {
        "id": "tKbqtB017F30"
      },
      "source": [
        "- On refait tourner de la même manière que la question précédente, en gardant les mêmes paramètres"
      ]
    },
    {
      "cell_type": "code",
      "metadata": {
        "id": "r3_YBeHzwF1x"
      },
      "source": [
        "# Nos paramètres\n",
        "batch_size=64\n",
        "neurons_lstm = 100\n",
        "num_epochs = 20\n",
        "T_in = batch_size*20 \n",
        "dT = 100\n",
        "\n",
        "t1s=np.arange(T_in,X_sample.shape[0]-T_in,dT) \n",
        "myLSTM = pred_LSTM(neurons_lstm, batch_size, X_sample.shape) \n",
        "predstot3_2 = np.array([])\n",
        "\n",
        "for t1 in tqdm(t1s):\n",
        "  t0 = t1 - T_in\n",
        "  myLSTM.fit(X_sample[t0:t1], y_sample[t0:t1], batch_size = batch_size, validation_split = 0.2, epochs=num_epochs)\n",
        "  myLSTM_1 = pred_LSTM(neurons_lstm, dT, X_sample.shape)\n",
        "  myLSTM_1.set_weights(myLSTM.get_weights())\n",
        "  preds = myLSTM_1.predict(X_sample[t1:t1+dT],batch_size=dT).flatten()\n",
        "\n",
        "  # On concatene toutes les predictions\n",
        "  predstot3_2 = np.concatenate((predstot3_2, preds))"
      ],
      "execution_count": null,
      "outputs": []
    },
    {
      "cell_type": "code",
      "metadata": {
        "id": "asWTvLvqwFwj"
      },
      "source": [
        "# On revient a la variance avec le exp pour pouvoi\n",
        "X_full_3_2 = np.exp(X_full_log)[N_I + t1s[0]:t1s[-1]+N_I+dT]\n",
        "predstot3_2 = np.exp(predstot3_2)"
      ],
      "execution_count": 185,
      "outputs": []
    },
    {
      "cell_type": "code",
      "metadata": {
        "id": "awHI6OqGYX8m"
      },
      "source": [
        "# On annualise\n",
        "X_full_3_2 = np.sqrt(X_full_3_2*252)\n",
        "predstot3_2 = np.sqrt(predstot3_2*252)"
      ],
      "execution_count": 186,
      "outputs": []
    },
    {
      "cell_type": "code",
      "metadata": {
        "colab": {
          "base_uri": "https://localhost:8080/",
          "height": 391
        },
        "id": "RyQR52lFwFsh",
        "outputId": "bd423be9-77c8-4901-f144-1b288de1f37e"
      },
      "source": [
        "fig, ax = plt.subplots(1,2,figsize=(20,6))\n",
        "ax[0].set(xlabel=\"Points\", ylabel=\"Annualized vol\")\n",
        "ax[0].set(xlabel=\"Realized\", ylabel=\"Predicted\")\n",
        "ax[0].plot(X_full_3_2, \"b\", label=\"Realized\")\n",
        "ax[0].plot(predstot3_2, \"r\", label=\"Predicted\");\n",
        "ax[1].plot(predstot3_2, X_full_3_2, 'bo');\n",
        "ax[0].legend();"
      ],
      "execution_count": 187,
      "outputs": [
        {
          "output_type": "display_data",
          "data": {
            "image/png": "[encoded data removed]",
            "text/plain": [
              "<Figure size 1440x432 with 2 Axes>"
            ]
          },
          "metadata": {
            "tags": [],
            "needs_background": "light"
          }
        }
      ]
    },
    {
      "cell_type": "markdown",
      "metadata": {
        "id": "Al7LpIDD9z97"
      },
      "source": [
        "- Dans ce cas, on voit que le début de la série est bien mieux estimé. La suite est au pareil au meilleur (le pic vers 750 est estimé un peu plus haut que dans le cas précédent)."
      ]
    },
    {
      "cell_type": "code",
      "metadata": {
        "id": "XAfXVEHbwcIf"
      },
      "source": [
        "# On stocke les dernières prévisions \n",
        "pd.DataFrame(predstot3_2).to_csv(\"/content/drive/MyDrive/Colab Notebooks Centrale/Deep Learning in Finance/TP5_PredVol/Predicted_vol_3_2.csv\", index=False, header=False)"
      ],
      "execution_count": 188,
      "outputs": []
    },
    {
      "cell_type": "markdown",
      "metadata": {
        "id": "YDAMk9Rv4Zhg"
      },
      "source": [
        "---\n",
        "# Autres prédicteurs \n",
        "\n",
        "- On ajoute le $3^{ème}$ Vendredi du mois comme feature, en essayant de voir si cela améliore l'estimation.\n",
        "\n",
        "- En effet, le roll des futurs et l'expiration des options a souvent lieu le 3ème vendredi du mois, synonyme de fortes fluctuations/volatilité. Nous allons voir si rajouter le fait que le jour du timestep correspondant en est un améliore notre pouvoir prédictif, ou pas.\n",
        "\n",
        "- Nous allons donc ajouter une feature booléenne nos deux dernières features (variance réalisée et variance prédite par modèle rough)."
      ]
    },
    {
      "cell_type": "code",
      "metadata": {
        "id": "IUvJPtkvTvB7"
      },
      "source": [
        "from datetime import datetime\n",
        "def is_third_friday(s):\n",
        "    \"\"\" Fonction permettant de retourner si on est le 3eme vendredi du mois\"\"\"\n",
        "    d = datetime.strptime(s, '%b %d, %Y')\n",
        "    return d.weekday() == 4 and 15 <= d.day <= 21"
      ],
      "execution_count": 202,
      "outputs": []
    },
    {
      "cell_type": "code",
      "metadata": {
        "id": "KW9eIhXq8AOn"
      },
      "source": [
        "is_third_frid = spx.index[501:].to_series().apply(lambda x: x.strftime('%b %d, %Y')).apply(is_third_friday).values"
      ],
      "execution_count": 203,
      "outputs": []
    },
    {
      "cell_type": "markdown",
      "metadata": {
        "id": "Xt_vlUwUvsJl"
      },
      "source": [
        "- On concatene de la même manière la nouvelle feature puis nous estimons la variance"
      ]
    },
    {
      "cell_type": "code",
      "metadata": {
        "id": "r05D2hit76ah"
      },
      "source": [
        "X_full_log = np.log(spx[[\"rk_twoscale\"]][501:].values)\n",
        "rv_predict_log = np.log(pd.read_csv(\"/content/drive/MyDrive/Colab Notebooks Centrale/Deep Learning in Finance/TP5_PredVol/Predicted_vol_1.1.csv\", header=None).values)"
      ],
      "execution_count": 204,
      "outputs": []
    },
    {
      "cell_type": "code",
      "metadata": {
        "colab": {
          "base_uri": "https://localhost:8080/"
        },
        "id": "26yeclunuoTA",
        "outputId": "e9505643-d558-43b3-8ccd-8b58e82a7a39"
      },
      "source": [
        "N_I = 100 \n",
        "X_full_log_sample, y_sample = split_sequence_univariate(X_full_log, N_I)\n",
        "resids_sample, _ = split_sequence_univariate(resids, N_I)\n",
        "is_third_frid, _ = split_sequence_univariate(is_third_frid.reshape(-1, 1), N_I)\n",
        "# On concatene de sorte a avoir la deuxieme feature en profondeur (cube)\n",
        "X_sample = np.concatenate((X_full_log_sample, resids_sample, is_third_frid), axis=2)\n",
        "X_sample.shape"
      ],
      "execution_count": 205,
      "outputs": [
        {
          "output_type": "execute_result",
          "data": {
            "text/plain": [
              "(4694, 100, 3)"
            ]
          },
          "metadata": {
            "tags": []
          },
          "execution_count": 205
        }
      ]
    },
    {
      "cell_type": "markdown",
      "metadata": {
        "id": "6xtMyRtA9hmh"
      },
      "source": [
        "- On refait tourner de la même manière que la question précédente, en gardant les mêmes paramètres"
      ]
    },
    {
      "cell_type": "code",
      "metadata": {
        "id": "lAaZJgvv7M4i"
      },
      "source": [
        "# Nos paramètres\n",
        "batch_size=64\n",
        "neurons_lstm = 100\n",
        "num_epochs = 20\n",
        "T_in = batch_size*20 \n",
        "dT = 100\n",
        "\n",
        "t1s=np.arange(T_in,X_sample.shape[0]-T_in,dT) \n",
        "myLSTM = pred_LSTM(neurons_lstm, batch_size, X_sample.shape) \n",
        "predstot4 = np.array([])\n",
        "\n",
        "for t1 in tqdm(t1s):\n",
        "  t0 = t1 - T_in\n",
        "  myLSTM.fit(X_sample[t0:t1], y_sample[t0:t1], batch_size = batch_size, validation_split = 0.2, epochs=num_epochs)\n",
        "  myLSTM_1 = pred_LSTM(neurons_lstm, dT, X_sample.shape)\n",
        "  myLSTM_1.set_weights(myLSTM.get_weights())\n",
        "  preds = myLSTM_1.predict(X_sample[t1:t1+dT],batch_size=dT).flatten()\n",
        "\n",
        "  # On concatene toutes les predictions\n",
        "  predstot4 = np.concatenate((predstot4, preds))"
      ],
      "execution_count": null,
      "outputs": []
    },
    {
      "cell_type": "code",
      "metadata": {
        "id": "0xWZEMku7M1y"
      },
      "source": [
        "# On revient a la vol normale avec l'exp\n",
        "X_full_4 = np.exp(X_full_log)[N_I + t1s[0]:t1s[-1]+N_I+dT]\n",
        "predstot4 = np.exp(predstot4)"
      ],
      "execution_count": 207,
      "outputs": []
    },
    {
      "cell_type": "code",
      "metadata": {
        "id": "qleBKYm2X5Q2"
      },
      "source": [
        "# On annualise\n",
        "X_full_4 = np.sqrt(X_full_4*252)\n",
        "predstot4 = np.sqrt(predstot4*252)"
      ],
      "execution_count": 208,
      "outputs": []
    },
    {
      "cell_type": "code",
      "metadata": {
        "colab": {
          "base_uri": "https://localhost:8080/",
          "height": 391
        },
        "id": "g42BsYLY8DwJ",
        "outputId": "8028c63d-71f7-41fc-e708-14bbd8853988"
      },
      "source": [
        "fig, ax = plt.subplots(1,2,figsize=(20,6))\n",
        "ax[0].set(xlabel=\"Points\", ylabel=\"Annualized vol\")\n",
        "ax[0].set(xlabel=\"Realized\", ylabel=\"Predicted\")\n",
        "ax[0].plot(X_full_4, \"b\", label=\"Realized\")\n",
        "ax[0].plot(predstot4, \"r\", label=\"Predicted\");\n",
        "ax[1].plot(predstot4, X_full_4, 'bo')\n",
        "ax[0].legend();"
      ],
      "execution_count": 209,
      "outputs": [
        {
          "output_type": "display_data",
          "data": {
            "image/png": "[encoded data removed]",
            "text/plain": [
              "<Figure size 1440x432 with 2 Axes>"
            ]
          },
          "metadata": {
            "tags": [],
            "needs_background": "light"
          }
        }
      ]
    },
    {
      "cell_type": "markdown",
      "metadata": {
        "id": "zrKFxQpF_TK8"
      },
      "source": [
        "- Nous voyons que rajouter les 3ème vendredi du mois a l'air de rajouter du pouvoir prédictif. Vérifions ca avec la comparaison."
      ]
    },
    {
      "cell_type": "markdown",
      "metadata": {
        "id": "ZQLsQ7qVmUJL"
      },
      "source": [
        "---\n",
        "# 4 - Comparaison"
      ]
    },
    {
      "cell_type": "markdown",
      "metadata": {
        "id": "bIOJmQnYPV7q"
      },
      "source": [
        "## RMSE et MAE"
      ]
    },
    {
      "cell_type": "code",
      "metadata": {
        "id": "E11kTPZuPX57"
      },
      "source": [
        "def RMSE(y_pred,y):\n",
        "  return np.sqrt(np.sum((y_pred - y)**2)/len(y_pred))\n",
        "\n",
        "def MAE(y_pred,y):\n",
        "  return np.sum(np.abs(y_pred - y))/len(y_pred)"
      ],
      "execution_count": 200,
      "outputs": []
    },
    {
      "cell_type": "code",
      "metadata": {
        "colab": {
          "base_uri": "https://localhost:8080/"
        },
        "id": "OsV63M7EPfo3",
        "outputId": "65ffac0b-1cf7-4b2c-dc1c-831b92cc121f"
      },
      "source": [
        "names = [\"Rough\", \"DL seul\", \"DL + Rough\", \"DL + Rough_resids\", \"DL + Rough_resids + IsThirdFriday\"]\n",
        "\n",
        "for name, predict, real in zip(names, [vol_predict, predstot2, predstot3, predstot3_2, predstot4], \n",
        "                               [vol_actual, X_full_2, X_full_3, X_full_3_2, X_full_4]):\n",
        "  rmse = np.round(RMSE(predict, real), 5)\n",
        "  mae = np.round(MAE(predict, real), 5)\n",
        "  print(f\"{name} : RMSE = {rmse} | MAE = {mae}\\n\")"
      ],
      "execution_count": 210,
      "outputs": [
        {
          "output_type": "stream",
          "text": [
            "Rough : RMSE = 0.04322 | MAE = 0.02574\n",
            "\n",
            "DL seul : RMSE = 6.5578 | MAE = 212.90069\n",
            "\n",
            "DL + Rough : RMSE = 6.05404 | MAE = 182.96235\n",
            "\n",
            "DL + Rough_resids : RMSE = 5.75661 | MAE = 173.50951\n",
            "\n",
            "DL + Rough_resids + IsThirdFriday : RMSE = 5.64279 | MAE = 162.91572\n",
            "\n"
          ],
          "name": "stdout"
        }
      ]
    },
    {
      "cell_type": "markdown",
      "metadata": {
        "id": "GBGmGHYN1tmk"
      },
      "source": [
        "- Sans surprise le modèle de volatilité rough est le meilleur modèle d'un poin de vie prédiction. \n",
        "\n",
        "- Du point de vue Deep Learning, on peut voir que :\n",
        "  - le LSTM seul a le plus grand taux d'erreur \n",
        "  - le LSTM + modèle rough est meilleur\n",
        "  - faire apprendre des résidus au lieu de la variance prédite diminue le taux d'erreur\n",
        "  - rajouter le boléen de troisieme vendredi du mois rajoute un pouvoir prédictif.\n",
        "\n",
        "- Nous vérifions donc qu'utiliser le deep learning en l'aidant de modèles est une des meilleures approches."
      ]
    },
    {
      "cell_type": "code",
      "metadata": {
        "id": "QUCMkJeSiBv_"
      },
      "source": [
        ""
      ],
      "execution_count": null,
      "outputs": []
    }
  ]
}